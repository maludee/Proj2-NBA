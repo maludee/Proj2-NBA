{
 "cells": [
  {
   "cell_type": "code",
   "execution_count": null,
   "metadata": {
    "collapsed": true
   },
   "outputs": [],
   "source": [
    "# Purpose:\n",
    "# Cross validate total season data to predict win/loss ratio"
   ]
  },
  {
   "cell_type": "markdown",
   "metadata": {},
   "source": [
    "# Cross Validation"
   ]
  },
  {
   "cell_type": "code",
   "execution_count": 1,
   "metadata": {
    "collapsed": false
   },
   "outputs": [
    {
     "name": "stderr",
     "output_type": "stream",
     "text": [
      "/Users/maludee/anaconda2/lib/python2.7/site-packages/sklearn/cross_validation.py:44: DeprecationWarning: This module was deprecated in version 0.18 in favor of the model_selection module into which all the refactored classes and functions are moved. Also note that the interface of the new CV iterators are different from that of this module. This module will be removed in 0.20.\n",
      "  \"This module will be removed in 0.20.\", DeprecationWarning)\n"
     ]
    }
   ],
   "source": [
    "# Imports and display options\n",
    "import pandas as pd\n",
    "import numpy as np\n",
    "import matplotlib.pyplot as plt\n",
    "\n",
    "from sklearn import preprocessing\n",
    "from sklearn.cross_validation import cross_val_score\n",
    "from sklearn.linear_model import LinearRegression\n",
    "from sklearn.cross_validation import train_test_split\n",
    "from sklearn.cross_validation import KFold\n",
    "from sklearn.metrics import mean_squared_error\n",
    "\n",
    "import seaborn as sns\n",
    "from seaborn import plt\n",
    "\n",
    "import statsmodels.api as sm\n",
    "import statsmodels.formula.api as smf\n",
    "from statsmodels.formula.api import ols\n",
    "\n",
    "import pickle\n",
    "\n",
    "pd.options.display.float_format = '{:20,.2f}'.format\n",
    "pd.options.display.max_columns = 100\n",
    "pd.options.display.max_rows = 20\n",
    "\n",
    "%matplotlib inline"
   ]
  },
  {
   "cell_type": "code",
   "execution_count": 2,
   "metadata": {
    "collapsed": true
   },
   "outputs": [],
   "source": [
    "# Import the cleaned and processed NBA datafile (2006-2016, data from the whole season)\n",
    "with open(\"team_stats.pkl\", 'rb') as picklefile:\n",
    "    team_stats = pickle.load(picklefile)"
   ]
  },
  {
   "cell_type": "code",
   "execution_count": 3,
   "metadata": {
    "collapsed": false
   },
   "outputs": [
    {
     "data": {
      "text/html": [
       "<div>\n",
       "<table border=\"1\" class=\"dataframe\">\n",
       "  <thead>\n",
       "    <tr style=\"text-align: right;\">\n",
       "      <th></th>\n",
       "      <th>team</th>\n",
       "      <th>season</th>\n",
       "      <th>avg_field_goals</th>\n",
       "      <th>avg_fg_att</th>\n",
       "      <th>avg_fg3_pct</th>\n",
       "      <th>avg_steals</th>\n",
       "      <th>avg_salary</th>\n",
       "      <th>avg_age</th>\n",
       "      <th>avg_per</th>\n",
       "      <th>avg_pct_started</th>\n",
       "      <th>avg_wl_ratio</th>\n",
       "      <th>strong_link</th>\n",
       "      <th>weak_link</th>\n",
       "      <th>opp_3_pct</th>\n",
       "      <th>opp_fg_pct</th>\n",
       "      <th>opp_fg_att</th>\n",
       "      <th>pace</th>\n",
       "      <th>log_avg_wl</th>\n",
       "    </tr>\n",
       "  </thead>\n",
       "  <tbody>\n",
       "    <tr>\n",
       "      <th>0</th>\n",
       "      <td>Atlanta_Hawks</td>\n",
       "      <td>2006</td>\n",
       "      <td>387.00</td>\n",
       "      <td>866.80</td>\n",
       "      <td>0.28</td>\n",
       "      <td>73.00</td>\n",
       "      <td>4,992,921.60</td>\n",
       "      <td>22.80</td>\n",
       "      <td>14.56</td>\n",
       "      <td>0.91</td>\n",
       "      <td>0.46</td>\n",
       "      <td>0.75</td>\n",
       "      <td>-0.68</td>\n",
       "      <td>0.37</td>\n",
       "      <td>0.48</td>\n",
       "      <td>6433</td>\n",
       "      <td>90.40</td>\n",
       "      <td>-0.77</td>\n",
       "    </tr>\n",
       "    <tr>\n",
       "      <th>1</th>\n",
       "      <td>Atlanta_Hawks</td>\n",
       "      <td>2007</td>\n",
       "      <td>347.00</td>\n",
       "      <td>763.40</td>\n",
       "      <td>0.28</td>\n",
       "      <td>68.40</td>\n",
       "      <td>5,066,493.80</td>\n",
       "      <td>22.20</td>\n",
       "      <td>15.82</td>\n",
       "      <td>0.66</td>\n",
       "      <td>0.58</td>\n",
       "      <td>0.75</td>\n",
       "      <td>-0.39</td>\n",
       "      <td>0.38</td>\n",
       "      <td>0.47</td>\n",
       "      <td>6335</td>\n",
       "      <td>90.00</td>\n",
       "      <td>-0.55</td>\n",
       "    </tr>\n",
       "    <tr>\n",
       "      <th>2</th>\n",
       "      <td>Atlanta_Hawks</td>\n",
       "      <td>2008</td>\n",
       "      <td>418.40</td>\n",
       "      <td>925.40</td>\n",
       "      <td>0.22</td>\n",
       "      <td>76.60</td>\n",
       "      <td>7,488,752.00</td>\n",
       "      <td>23.80</td>\n",
       "      <td>16.08</td>\n",
       "      <td>0.86</td>\n",
       "      <td>0.82</td>\n",
       "      <td>0.48</td>\n",
       "      <td>-0.29</td>\n",
       "      <td>0.36</td>\n",
       "      <td>0.46</td>\n",
       "      <td>6733</td>\n",
       "      <td>91.10</td>\n",
       "      <td>-0.20</td>\n",
       "    </tr>\n",
       "    <tr>\n",
       "      <th>3</th>\n",
       "      <td>Atlanta_Hawks</td>\n",
       "      <td>2009</td>\n",
       "      <td>414.40</td>\n",
       "      <td>898.00</td>\n",
       "      <td>0.28</td>\n",
       "      <td>77.20</td>\n",
       "      <td>9,775,806.60</td>\n",
       "      <td>24.80</td>\n",
       "      <td>16.94</td>\n",
       "      <td>0.86</td>\n",
       "      <td>1.34</td>\n",
       "      <td>0.35</td>\n",
       "      <td>-0.30</td>\n",
       "      <td>0.35</td>\n",
       "      <td>0.45</td>\n",
       "      <td>6609</td>\n",
       "      <td>89.60</td>\n",
       "      <td>0.29</td>\n",
       "    </tr>\n",
       "    <tr>\n",
       "      <th>4</th>\n",
       "      <td>Atlanta_Hawks</td>\n",
       "      <td>2010</td>\n",
       "      <td>435.20</td>\n",
       "      <td>908.00</td>\n",
       "      <td>0.41</td>\n",
       "      <td>80.80</td>\n",
       "      <td>8,760,402.20</td>\n",
       "      <td>25.80</td>\n",
       "      <td>17.08</td>\n",
       "      <td>0.97</td>\n",
       "      <td>1.83</td>\n",
       "      <td>0.43</td>\n",
       "      <td>-0.30</td>\n",
       "      <td>0.34</td>\n",
       "      <td>0.46</td>\n",
       "      <td>6623</td>\n",
       "      <td>90.10</td>\n",
       "      <td>0.60</td>\n",
       "    </tr>\n",
       "  </tbody>\n",
       "</table>\n",
       "</div>"
      ],
      "text/plain": [
       "            team  season      avg_field_goals           avg_fg_att  \\\n",
       "0  Atlanta_Hawks    2006               387.00               866.80   \n",
       "1  Atlanta_Hawks    2007               347.00               763.40   \n",
       "2  Atlanta_Hawks    2008               418.40               925.40   \n",
       "3  Atlanta_Hawks    2009               414.40               898.00   \n",
       "4  Atlanta_Hawks    2010               435.20               908.00   \n",
       "\n",
       "           avg_fg3_pct           avg_steals           avg_salary  \\\n",
       "0                 0.28                73.00         4,992,921.60   \n",
       "1                 0.28                68.40         5,066,493.80   \n",
       "2                 0.22                76.60         7,488,752.00   \n",
       "3                 0.28                77.20         9,775,806.60   \n",
       "4                 0.41                80.80         8,760,402.20   \n",
       "\n",
       "               avg_age              avg_per      avg_pct_started  \\\n",
       "0                22.80                14.56                 0.91   \n",
       "1                22.20                15.82                 0.66   \n",
       "2                23.80                16.08                 0.86   \n",
       "3                24.80                16.94                 0.86   \n",
       "4                25.80                17.08                 0.97   \n",
       "\n",
       "          avg_wl_ratio          strong_link            weak_link  \\\n",
       "0                 0.46                 0.75                -0.68   \n",
       "1                 0.58                 0.75                -0.39   \n",
       "2                 0.82                 0.48                -0.29   \n",
       "3                 1.34                 0.35                -0.30   \n",
       "4                 1.83                 0.43                -0.30   \n",
       "\n",
       "             opp_3_pct           opp_fg_pct  opp_fg_att                 pace  \\\n",
       "0                 0.37                 0.48        6433                90.40   \n",
       "1                 0.38                 0.47        6335                90.00   \n",
       "2                 0.36                 0.46        6733                91.10   \n",
       "3                 0.35                 0.45        6609                89.60   \n",
       "4                 0.34                 0.46        6623                90.10   \n",
       "\n",
       "            log_avg_wl  \n",
       "0                -0.77  \n",
       "1                -0.55  \n",
       "2                -0.20  \n",
       "3                 0.29  \n",
       "4                 0.60  "
      ]
     },
     "execution_count": 3,
     "metadata": {},
     "output_type": "execute_result"
    },
    {
     "data": {
      "image/png": "[encoded data removed]",
      "text/plain": [
       "<matplotlib.figure.Figure at 0x115c48750>"
      ]
     },
     "metadata": {},
     "output_type": "display_data"
    }
   ],
   "source": [
    "# Make a column for log wl_ratio because then it'll be normalized\n",
    "team_stats['log_avg_wl'] = np.log(team_stats.avg_wl_ratio)\n",
    "\n",
    "# Check if that had a normal distribution\n",
    "team_stats.log_avg_wl.hist(bins = 50);\n",
    "\n",
    "team_stats.head()"
   ]
  },
  {
   "cell_type": "code",
   "execution_count": 4,
   "metadata": {
    "collapsed": false
   },
   "outputs": [],
   "source": [
    "# Drop columns that will not be used in the model\n",
    "team_stats = team_stats.drop('team', 1)\n",
    "team_stats = team_stats.drop('season', 1)\n",
    "team_stats = team_stats.drop('avg_wl_ratio', 1)\n",
    "team_stats = team_stats.drop('avg_field_goals', 1)"
   ]
  },
  {
   "cell_type": "code",
   "execution_count": 5,
   "metadata": {
    "collapsed": false
   },
   "outputs": [
    {
     "data": {
      "text/html": [
       "<div>\n",
       "<table border=\"1\" class=\"dataframe\">\n",
       "  <thead>\n",
       "    <tr style=\"text-align: right;\">\n",
       "      <th></th>\n",
       "      <th>avg_fg_att</th>\n",
       "      <th>avg_fg3_pct</th>\n",
       "      <th>avg_steals</th>\n",
       "      <th>avg_salary</th>\n",
       "      <th>avg_age</th>\n",
       "      <th>avg_per</th>\n",
       "      <th>avg_pct_started</th>\n",
       "      <th>strong_link</th>\n",
       "      <th>weak_link</th>\n",
       "      <th>opp_3_pct</th>\n",
       "      <th>opp_fg_pct</th>\n",
       "      <th>opp_fg_att</th>\n",
       "      <th>pace</th>\n",
       "      <th>log_avg_wl</th>\n",
       "    </tr>\n",
       "  </thead>\n",
       "  <tbody>\n",
       "    <tr>\n",
       "      <th>0</th>\n",
       "      <td>0.68</td>\n",
       "      <td>0.33</td>\n",
       "      <td>0.56</td>\n",
       "      <td>0.20</td>\n",
       "      <td>0.10</td>\n",
       "      <td>0.35</td>\n",
       "      <td>0.87</td>\n",
       "      <td>0.58</td>\n",
       "      <td>0.18</td>\n",
       "      <td>0.58</td>\n",
       "      <td>0.82</td>\n",
       "      <td>0.58</td>\n",
       "      <td>0.29</td>\n",
       "      <td>0.32</td>\n",
       "    </tr>\n",
       "    <tr>\n",
       "      <th>1</th>\n",
       "      <td>0.52</td>\n",
       "      <td>0.31</td>\n",
       "      <td>0.50</td>\n",
       "      <td>0.21</td>\n",
       "      <td>0.05</td>\n",
       "      <td>0.50</td>\n",
       "      <td>0.40</td>\n",
       "      <td>0.59</td>\n",
       "      <td>0.64</td>\n",
       "      <td>0.66</td>\n",
       "      <td>0.65</td>\n",
       "      <td>0.54</td>\n",
       "      <td>0.26</td>\n",
       "      <td>0.37</td>\n",
       "    </tr>\n",
       "    <tr>\n",
       "      <th>2</th>\n",
       "      <td>0.76</td>\n",
       "      <td>0.17</td>\n",
       "      <td>0.60</td>\n",
       "      <td>0.38</td>\n",
       "      <td>0.17</td>\n",
       "      <td>0.54</td>\n",
       "      <td>0.77</td>\n",
       "      <td>0.35</td>\n",
       "      <td>0.81</td>\n",
       "      <td>0.52</td>\n",
       "      <td>0.61</td>\n",
       "      <td>0.72</td>\n",
       "      <td>0.34</td>\n",
       "      <td>0.46</td>\n",
       "    </tr>\n",
       "  </tbody>\n",
       "</table>\n",
       "</div>"
      ],
      "text/plain": [
       "            avg_fg_att          avg_fg3_pct           avg_steals  \\\n",
       "0                 0.68                 0.33                 0.56   \n",
       "1                 0.52                 0.31                 0.50   \n",
       "2                 0.76                 0.17                 0.60   \n",
       "\n",
       "            avg_salary              avg_age              avg_per  \\\n",
       "0                 0.20                 0.10                 0.35   \n",
       "1                 0.21                 0.05                 0.50   \n",
       "2                 0.38                 0.17                 0.54   \n",
       "\n",
       "       avg_pct_started          strong_link            weak_link  \\\n",
       "0                 0.87                 0.58                 0.18   \n",
       "1                 0.40                 0.59                 0.64   \n",
       "2                 0.77                 0.35                 0.81   \n",
       "\n",
       "             opp_3_pct           opp_fg_pct           opp_fg_att  \\\n",
       "0                 0.58                 0.82                 0.58   \n",
       "1                 0.66                 0.65                 0.54   \n",
       "2                 0.52                 0.61                 0.72   \n",
       "\n",
       "                  pace           log_avg_wl  \n",
       "0                 0.29                 0.32  \n",
       "1                 0.26                 0.37  \n",
       "2                 0.34                 0.46  "
      ]
     },
     "execution_count": 5,
     "metadata": {},
     "output_type": "execute_result"
    }
   ],
   "source": [
    "# Normalize the team_stats dataframe between 0 and 1 (between -1 and 1 would be team_stats.mean()/ same as below)\n",
    "team_norm = (team_stats - team_stats.min()) / (team_stats.max() - team_stats.min())\n",
    "#team_norm = (team_stats - team_stats.mean()) / (team_stats.std())\n",
    "team_norm.head(3)"
   ]
  },
  {
   "cell_type": "code",
   "execution_count": 6,
   "metadata": {
    "collapsed": true
   },
   "outputs": [],
   "source": [
    "# Add intercept column\n",
    "team_norm['intercept'] = 1"
   ]
  },
  {
   "cell_type": "code",
   "execution_count": 7,
   "metadata": {
    "collapsed": false
   },
   "outputs": [
    {
     "data": {
      "text/plain": [
       "(329, 15)"
      ]
     },
     "execution_count": 7,
     "metadata": {},
     "output_type": "execute_result"
    }
   ],
   "source": [
    "team_norm.shape"
   ]
  },
  {
   "cell_type": "code",
   "execution_count": 46,
   "metadata": {
    "collapsed": false
   },
   "outputs": [
    {
     "data": {
      "text/html": [
       "<table class=\"simpletable\">\n",
       "<caption>OLS Regression Results</caption>\n",
       "<tr>\n",
       "  <th>Dep. Variable:</th>       <td>log_avg_wl</td>    <th>  R-squared:         </th> <td>   0.785</td>\n",
       "</tr>\n",
       "<tr>\n",
       "  <th>Model:</th>                   <td>OLS</td>       <th>  Adj. R-squared:    </th> <td>   0.780</td>\n",
       "</tr>\n",
       "<tr>\n",
       "  <th>Method:</th>             <td>Least Squares</td>  <th>  F-statistic:       </th> <td>   156.3</td>\n",
       "</tr>\n",
       "<tr>\n",
       "  <th>Date:</th>             <td>Thu, 26 Jan 2017</td> <th>  Prob (F-statistic):</th> <td>2.12e-69</td>\n",
       "</tr>\n",
       "<tr>\n",
       "  <th>Time:</th>                 <td>22:54:43</td>     <th>  Log-Likelihood:    </th> <td>  261.22</td>\n",
       "</tr>\n",
       "<tr>\n",
       "  <th>No. Observations:</th>      <td>   220</td>      <th>  AIC:               </th> <td>  -510.4</td>\n",
       "</tr>\n",
       "<tr>\n",
       "  <th>Df Residuals:</th>          <td>   214</td>      <th>  BIC:               </th> <td>  -490.1</td>\n",
       "</tr>\n",
       "<tr>\n",
       "  <th>Df Model:</th>              <td>     5</td>      <th>                     </th>     <td> </td>   \n",
       "</tr>\n",
       "<tr>\n",
       "  <th>Covariance Type:</th>      <td>nonrobust</td>    <th>                     </th>     <td> </td>   \n",
       "</tr>\n",
       "</table>\n",
       "<table class=\"simpletable\">\n",
       "<tr>\n",
       "         <td></td>            <th>coef</th>     <th>std err</th>      <th>t</th>      <th>P>|t|</th> <th>[95.0% Conf. Int.]</th> \n",
       "</tr>\n",
       "<tr>\n",
       "  <th>opp_fg_pct</th>      <td>   -0.3183</td> <td>    0.029</td> <td>  -11.031</td> <td> 0.000</td> <td>   -0.375    -0.261</td>\n",
       "</tr>\n",
       "<tr>\n",
       "  <th>avg_per</th>         <td>    0.3505</td> <td>    0.032</td> <td>   11.058</td> <td> 0.000</td> <td>    0.288     0.413</td>\n",
       "</tr>\n",
       "<tr>\n",
       "  <th>intercept</th>       <td>    0.3552</td> <td>    0.035</td> <td>   10.267</td> <td> 0.000</td> <td>    0.287     0.423</td>\n",
       "</tr>\n",
       "<tr>\n",
       "  <th>avg_pct_started</th> <td>    0.1985</td> <td>    0.032</td> <td>    6.291</td> <td> 0.000</td> <td>    0.136     0.261</td>\n",
       "</tr>\n",
       "<tr>\n",
       "  <th>avg_age</th>         <td>    0.1387</td> <td>    0.029</td> <td>    4.739</td> <td> 0.000</td> <td>    0.081     0.196</td>\n",
       "</tr>\n",
       "<tr>\n",
       "  <th>weak_link</th>       <td>   -0.1084</td> <td>    0.024</td> <td>   -4.531</td> <td> 0.000</td> <td>   -0.156    -0.061</td>\n",
       "</tr>\n",
       "</table>\n",
       "<table class=\"simpletable\">\n",
       "<tr>\n",
       "  <th>Omnibus:</th>       <td>15.986</td> <th>  Durbin-Watson:     </th> <td>   1.472</td>\n",
       "</tr>\n",
       "<tr>\n",
       "  <th>Prob(Omnibus):</th> <td> 0.000</td> <th>  Jarque-Bera (JB):  </th> <td>  30.398</td>\n",
       "</tr>\n",
       "<tr>\n",
       "  <th>Skew:</th>          <td> 0.361</td> <th>  Prob(JB):          </th> <td>2.51e-07</td>\n",
       "</tr>\n",
       "<tr>\n",
       "  <th>Kurtosis:</th>      <td> 4.672</td> <th>  Cond. No.          </th> <td>    14.5</td>\n",
       "</tr>\n",
       "</table>"
      ],
      "text/plain": [
       "<class 'statsmodels.iolib.summary.Summary'>\n",
       "\"\"\"\n",
       "                            OLS Regression Results                            \n",
       "==============================================================================\n",
       "Dep. Variable:             log_avg_wl   R-squared:                       0.785\n",
       "Model:                            OLS   Adj. R-squared:                  0.780\n",
       "Method:                 Least Squares   F-statistic:                     156.3\n",
       "Date:                Thu, 26 Jan 2017   Prob (F-statistic):           2.12e-69\n",
       "Time:                        22:54:43   Log-Likelihood:                 261.22\n",
       "No. Observations:                 220   AIC:                            -510.4\n",
       "Df Residuals:                     214   BIC:                            -490.1\n",
       "Df Model:                           5                                         \n",
       "Covariance Type:            nonrobust                                         \n",
       "===================================================================================\n",
       "                      coef    std err          t      P>|t|      [95.0% Conf. Int.]\n",
       "-----------------------------------------------------------------------------------\n",
       "opp_fg_pct         -0.3183      0.029    -11.031      0.000        -0.375    -0.261\n",
       "avg_per             0.3505      0.032     11.058      0.000         0.288     0.413\n",
       "intercept           0.3552      0.035     10.267      0.000         0.287     0.423\n",
       "avg_pct_started     0.1985      0.032      6.291      0.000         0.136     0.261\n",
       "avg_age             0.1387      0.029      4.739      0.000         0.081     0.196\n",
       "weak_link          -0.1084      0.024     -4.531      0.000        -0.156    -0.061\n",
       "==============================================================================\n",
       "Omnibus:                       15.986   Durbin-Watson:                   1.472\n",
       "Prob(Omnibus):                  0.000   Jarque-Bera (JB):               30.398\n",
       "Skew:                           0.361   Prob(JB):                     2.51e-07\n",
       "Kurtosis:                       4.672   Cond. No.                         14.5\n",
       "==============================================================================\n",
       "\n",
       "Warnings:\n",
       "[1] Standard Errors assume that the covariance matrix of the errors is correctly specified.\n",
       "\"\"\""
      ]
     },
     "execution_count": 46,
     "metadata": {},
     "output_type": "execute_result"
    }
   ],
   "source": [
    "# Desired outcome variable\n",
    "y = team_norm.log_avg_wl\n",
    "\n",
    "# Full set of features \n",
    "X = team_norm.drop(['log_avg_wl'], 1)\n",
    "\n",
    "# Set a fold object to organize cross validation\n",
    "kf = KFold(n = len(X), n_folds = 3, shuffle = True)\n",
    "all_scores = []\n",
    "\n",
    "# Set the number of features to remove from model based on pvalues\n",
    "# Try different numbers here\n",
    "n_to_remove_from_model = 8\n",
    "\n",
    "# Get indices of corresponding train & test\n",
    "for train, test in kf:\n",
    "    x_train = X.iloc[train]\n",
    "    y_train = y.iloc[train]\n",
    "    x_test = X.iloc[test]\n",
    "    y_test = y.iloc[test]\n",
    "    pvals = []\n",
    "    sig_cols = []\n",
    "    \n",
    "    model = sm.OLS(y_train, x_train)\n",
    "    est = model.fit()\n",
    "    pvals = est.pvalues.sort_values()\n",
    "    \n",
    "    # Eliminate features iteratively\n",
    "    for i in range(n_to_remove_from_model): \n",
    "        # Recalculate pvalue\n",
    "        pvals = pvals[:-1]\n",
    "#         print pvals\n",
    "        # Remove one feature at a time\n",
    "        feature_keep = pvals.index\n",
    "\n",
    "        x_train = x_train[feature_keep]\n",
    "        x_test_red = x_test[feature_keep]\n",
    "        model = sm.OLS(y_train, x_train)\n",
    "        est = model.fit()\n",
    "        pvals = est.pvalues.sort_values()\n",
    "        y_train_pred = est.predict(x_train)\n",
    "        y_test_pred = est.predict(x_test_red)\n",
    "\n",
    "    r_2 = est.rsquared\n",
    "    all_scores.append(r_2)\n",
    "     #Summary of R2 and pvalues for each of the five models\n",
    "    #print(r_2)\n",
    "    #print(est.pvalues.sort_index())\n",
    "    \n",
    "# Summary of the last model (out of 5)\n",
    "est.summary()\n",
    "\n",
    "#pvals"
   ]
  },
  {
   "cell_type": "code",
   "execution_count": 20,
   "metadata": {
    "collapsed": false
   },
   "outputs": [
    {
     "name": "stdout",
     "output_type": "stream",
     "text": [
      "0.787274551045\n",
      "0.785482220325\n"
     ]
    },
    {
     "data": {
      "image/png": "[encoded data removed]",
      "text/plain": [
       "<matplotlib.figure.Figure at 0x11a085f90>"
      ]
     },
     "metadata": {},
     "output_type": "display_data"
    }
   ],
   "source": [
    "# calculate means of y_test and y_train\n",
    "mean_y_test = np.mean(y_test)\n",
    "mean_y_train = np.mean(y_train)\n",
    "\n",
    "# print r_squared (train and test)\n",
    "print 1 - (mean_squared_error(y_train, y_train_pred)/mean_squared_error([mean_y_train]*len(y_train), y_train))\n",
    "print 1 - (mean_squared_error(y_test, y_test_pred)/mean_squared_error([mean_y_test]*len(y_test), y_test))\n",
    "\n",
    "# Plot test vs test_pred\n",
    "plt.scatter(y_test, y_test_pred)\n",
    "plt.xlabel(\"actual\")\n",
    "plt.ylabel(\"prediction\");"
   ]
  },
  {
   "cell_type": "code",
   "execution_count": 10,
   "metadata": {
    "collapsed": false
   },
   "outputs": [
    {
     "data": {
      "image/png": "[encoded data removed]",
      "text/plain": [
       "<matplotlib.figure.Figure at 0x1199d4750>"
      ]
     },
     "metadata": {},
     "output_type": "display_data"
    }
   ],
   "source": [
    "# Plot residuals\n",
    "plt.scatter(est.predict(x_train), y_train - est.predict(x_train));"
   ]
  },
  {
   "cell_type": "code",
   "execution_count": 47,
   "metadata": {
    "collapsed": false
   },
   "outputs": [],
   "source": [
    "# Make the prediction on the whole dataset using the above model\n",
    "X = X[feature_keep]\n",
    "ttl_y_pred = est.predict(X)"
   ]
  },
  {
   "cell_type": "code",
   "execution_count": 49,
   "metadata": {
    "collapsed": false
   },
   "outputs": [],
   "source": [
    "# this is how I normalized earlier\n",
    "# team_norm = (team_stats - team_stats.min()) / (team_stats.max() - team_stats.min())\n",
    "# first_norm = (model_games - model_games.min()) / (model_games.max() - model_games.min())\n",
    "\n",
    "# Un-normalize everything\n",
    "# final_games = first_norm * (model_games.max() - model_games.min()) + model_games.min()\n",
    "final_all = team_norm * (team_stats.max() - team_stats.min()) + team_stats.min()"
   ]
  },
  {
   "cell_type": "code",
   "execution_count": 50,
   "metadata": {
    "collapsed": true
   },
   "outputs": [],
   "source": [
    "# Drop the intercept\n",
    "final_all = final_all.drop('intercept', 1)"
   ]
  },
  {
   "cell_type": "code",
   "execution_count": 54,
   "metadata": {
    "collapsed": false
   },
   "outputs": [],
   "source": [
    "# Open team_stats again to get the original data with team and season\n",
    "with open(\"team_stats.pkl\", 'rb') as picklefile:\n",
    "    team_stats2 = pickle.load(picklefile)"
   ]
  },
  {
   "cell_type": "code",
   "execution_count": 63,
   "metadata": {
    "collapsed": false
   },
   "outputs": [],
   "source": [
    "# Add team and season back onto the dataframe\n",
    "new1 = pd.concat([final_all.reset_index(drop = True),team_stats2[['team','season']].reset_index(drop = True)], axis=1)"
   ]
  },
  {
   "cell_type": "code",
   "execution_count": 80,
   "metadata": {
    "collapsed": false
   },
   "outputs": [],
   "source": [
    "# Add the predicted w/l ratio to the dataframe\n",
    "new2 = pd.concat([new1.reset_index(drop=True), pd.DataFrame(ttl_y_pred).reset_index(drop=True)], axis=1)"
   ]
  },
  {
   "cell_type": "code",
   "execution_count": 81,
   "metadata": {
    "collapsed": false
   },
   "outputs": [],
   "source": [
    "# Un-log avg-wl and get rid of the log column\n",
    "new2['avg_wl'] = np.exp(new2.log_avg_wl)\n",
    "new2 = new2.rename(columns = {0: 'predicted_wl_norm'})"
   ]
  },
  {
   "cell_type": "code",
   "execution_count": 82,
   "metadata": {
    "collapsed": true
   },
   "outputs": [],
   "source": [
    "# Un-normalize the predicted column\n",
    "final_all['log_pred_wl_ratio'] = team_norm['log_avg_wl'] * (team_stats['log_avg_wl'].max() - team_stats['log_avg_wl'].min()) + team_stats['log_avg_wl'].min()\n",
    "final_all['pred_wl'] = np.exp(final_all.log_pred_wl_ratio)"
   ]
  },
  {
   "cell_type": "code",
   "execution_count": 83,
   "metadata": {
    "collapsed": true
   },
   "outputs": [],
   "source": [
    "new2['predicted_wl'] = new2['predicted_wl_norm'] * (team_stats['log_avg_wl'].max() - team_stats['log_avg_wl'].min()) + team_stats['log_avg_wl'].min()\n",
    "new2['predicted_wl'] = new2['predicted_wl'].apply(lambda x:np.exp(x))"
   ]
  },
  {
   "cell_type": "code",
   "execution_count": 84,
   "metadata": {
    "collapsed": false
   },
   "outputs": [
    {
     "data": {
      "text/html": [
       "<div>\n",
       "<table border=\"1\" class=\"dataframe\">\n",
       "  <thead>\n",
       "    <tr style=\"text-align: right;\">\n",
       "      <th></th>\n",
       "      <th>avg_age</th>\n",
       "      <th>avg_fg3_pct</th>\n",
       "      <th>avg_fg_att</th>\n",
       "      <th>avg_pct_started</th>\n",
       "      <th>avg_per</th>\n",
       "      <th>avg_salary</th>\n",
       "      <th>avg_steals</th>\n",
       "      <th>log_avg_wl</th>\n",
       "      <th>opp_3_pct</th>\n",
       "      <th>opp_fg_att</th>\n",
       "      <th>opp_fg_pct</th>\n",
       "      <th>pace</th>\n",
       "      <th>strong_link</th>\n",
       "      <th>weak_link</th>\n",
       "      <th>team</th>\n",
       "      <th>season</th>\n",
       "      <th>predicted_wl_norm</th>\n",
       "      <th>avg_wl</th>\n",
       "      <th>predicted_wl</th>\n",
       "    </tr>\n",
       "  </thead>\n",
       "  <tbody>\n",
       "    <tr>\n",
       "      <th>0</th>\n",
       "      <td>22.80</td>\n",
       "      <td>0.28</td>\n",
       "      <td>866.80</td>\n",
       "      <td>0.91</td>\n",
       "      <td>14.56</td>\n",
       "      <td>4,992,921.60</td>\n",
       "      <td>73.00</td>\n",
       "      <td>-0.77</td>\n",
       "      <td>0.37</td>\n",
       "      <td>6,433.00</td>\n",
       "      <td>0.48</td>\n",
       "      <td>90.40</td>\n",
       "      <td>0.75</td>\n",
       "      <td>-0.68</td>\n",
       "      <td>Atlanta_Hawks</td>\n",
       "      <td>2006</td>\n",
       "      <td>0.38</td>\n",
       "      <td>0.46</td>\n",
       "      <td>0.60</td>\n",
       "    </tr>\n",
       "    <tr>\n",
       "      <th>1</th>\n",
       "      <td>22.20</td>\n",
       "      <td>0.28</td>\n",
       "      <td>763.40</td>\n",
       "      <td>0.66</td>\n",
       "      <td>15.82</td>\n",
       "      <td>5,066,493.80</td>\n",
       "      <td>68.40</td>\n",
       "      <td>-0.55</td>\n",
       "      <td>0.38</td>\n",
       "      <td>6,335.00</td>\n",
       "      <td>0.47</td>\n",
       "      <td>90.00</td>\n",
       "      <td>0.75</td>\n",
       "      <td>-0.39</td>\n",
       "      <td>Atlanta_Hawks</td>\n",
       "      <td>2007</td>\n",
       "      <td>0.34</td>\n",
       "      <td>0.58</td>\n",
       "      <td>0.50</td>\n",
       "    </tr>\n",
       "    <tr>\n",
       "      <th>2</th>\n",
       "      <td>23.80</td>\n",
       "      <td>0.22</td>\n",
       "      <td>925.40</td>\n",
       "      <td>0.86</td>\n",
       "      <td>16.08</td>\n",
       "      <td>7,488,752.00</td>\n",
       "      <td>76.60</td>\n",
       "      <td>-0.20</td>\n",
       "      <td>0.36</td>\n",
       "      <td>6,733.00</td>\n",
       "      <td>0.46</td>\n",
       "      <td>91.10</td>\n",
       "      <td>0.48</td>\n",
       "      <td>-0.29</td>\n",
       "      <td>Atlanta_Hawks</td>\n",
       "      <td>2008</td>\n",
       "      <td>0.44</td>\n",
       "      <td>0.82</td>\n",
       "      <td>0.75</td>\n",
       "    </tr>\n",
       "    <tr>\n",
       "      <th>3</th>\n",
       "      <td>24.80</td>\n",
       "      <td>0.28</td>\n",
       "      <td>898.00</td>\n",
       "      <td>0.86</td>\n",
       "      <td>16.94</td>\n",
       "      <td>9,775,806.60</td>\n",
       "      <td>77.20</td>\n",
       "      <td>0.29</td>\n",
       "      <td>0.35</td>\n",
       "      <td>6,609.00</td>\n",
       "      <td>0.45</td>\n",
       "      <td>89.60</td>\n",
       "      <td>0.35</td>\n",
       "      <td>-0.30</td>\n",
       "      <td>Atlanta_Hawks</td>\n",
       "      <td>2009</td>\n",
       "      <td>0.53</td>\n",
       "      <td>1.34</td>\n",
       "      <td>1.10</td>\n",
       "    </tr>\n",
       "    <tr>\n",
       "      <th>4</th>\n",
       "      <td>25.80</td>\n",
       "      <td>0.41</td>\n",
       "      <td>908.00</td>\n",
       "      <td>0.97</td>\n",
       "      <td>17.08</td>\n",
       "      <td>8,760,402.20</td>\n",
       "      <td>80.80</td>\n",
       "      <td>0.60</td>\n",
       "      <td>0.34</td>\n",
       "      <td>6,623.00</td>\n",
       "      <td>0.46</td>\n",
       "      <td>90.10</td>\n",
       "      <td>0.43</td>\n",
       "      <td>-0.30</td>\n",
       "      <td>Atlanta_Hawks</td>\n",
       "      <td>2010</td>\n",
       "      <td>0.56</td>\n",
       "      <td>1.83</td>\n",
       "      <td>1.25</td>\n",
       "    </tr>\n",
       "  </tbody>\n",
       "</table>\n",
       "</div>"
      ],
      "text/plain": [
       "               avg_age          avg_fg3_pct           avg_fg_att  \\\n",
       "0                22.80                 0.28               866.80   \n",
       "1                22.20                 0.28               763.40   \n",
       "2                23.80                 0.22               925.40   \n",
       "3                24.80                 0.28               898.00   \n",
       "4                25.80                 0.41               908.00   \n",
       "\n",
       "       avg_pct_started              avg_per           avg_salary  \\\n",
       "0                 0.91                14.56         4,992,921.60   \n",
       "1                 0.66                15.82         5,066,493.80   \n",
       "2                 0.86                16.08         7,488,752.00   \n",
       "3                 0.86                16.94         9,775,806.60   \n",
       "4                 0.97                17.08         8,760,402.20   \n",
       "\n",
       "            avg_steals           log_avg_wl            opp_3_pct  \\\n",
       "0                73.00                -0.77                 0.37   \n",
       "1                68.40                -0.55                 0.38   \n",
       "2                76.60                -0.20                 0.36   \n",
       "3                77.20                 0.29                 0.35   \n",
       "4                80.80                 0.60                 0.34   \n",
       "\n",
       "            opp_fg_att           opp_fg_pct                 pace  \\\n",
       "0             6,433.00                 0.48                90.40   \n",
       "1             6,335.00                 0.47                90.00   \n",
       "2             6,733.00                 0.46                91.10   \n",
       "3             6,609.00                 0.45                89.60   \n",
       "4             6,623.00                 0.46                90.10   \n",
       "\n",
       "           strong_link            weak_link           team  season  \\\n",
       "0                 0.75                -0.68  Atlanta_Hawks    2006   \n",
       "1                 0.75                -0.39  Atlanta_Hawks    2007   \n",
       "2                 0.48                -0.29  Atlanta_Hawks    2008   \n",
       "3                 0.35                -0.30  Atlanta_Hawks    2009   \n",
       "4                 0.43                -0.30  Atlanta_Hawks    2010   \n",
       "\n",
       "     predicted_wl_norm               avg_wl         predicted_wl  \n",
       "0                 0.38                 0.46                 0.60  \n",
       "1                 0.34                 0.58                 0.50  \n",
       "2                 0.44                 0.82                 0.75  \n",
       "3                 0.53                 1.34                 1.10  \n",
       "4                 0.56                 1.83                 1.25  "
      ]
     },
     "execution_count": 84,
     "metadata": {},
     "output_type": "execute_result"
    }
   ],
   "source": [
    "new2.head()"
   ]
  },
  {
   "cell_type": "code",
   "execution_count": 107,
   "metadata": {
    "collapsed": false
   },
   "outputs": [
    {
     "data": {
      "image/png": "[encoded data removed]",
      "text/plain": [
       "<matplotlib.figure.Figure at 0x118ade310>"
      ]
     },
     "metadata": {},
     "output_type": "display_data"
    }
   ],
   "source": [
    "# Plot predicted win loss ratio vs the actual win/loss ratio un-normalized and no logs\n",
    "new2['wl_diff'] = new2['avg_wl'] - new2['predicted_wl']\n",
    "new2.loc[new2.season == 2016, ].sort_values(['wl_diff'])\n",
    "with plt.style.context('fivethirtyeight'):\n",
    "    plt.scatter(new2['avg_wl'], new2['predicted_wl'], s = 30, marker = 'o')\n",
    "    plt.xlabel('Avg Win/Loss Ratio')\n",
    "    plt.ylabel('Predicted Win/Loss Ratio')\n",
    "    plt.title('Win/Loss Ratio vs Predicted Win/Loss Ratio')\n",
    "    plt.show()"
   ]
  },
  {
   "cell_type": "code",
   "execution_count": 105,
   "metadata": {
    "collapsed": false
   },
   "outputs": [
    {
     "data": {
      "text/html": [
       "<div>\n",
       "<table border=\"1\" class=\"dataframe\">\n",
       "  <thead>\n",
       "    <tr style=\"text-align: right;\">\n",
       "      <th></th>\n",
       "      <th>team</th>\n",
       "      <th>season</th>\n",
       "      <th>predicted_wl</th>\n",
       "      <th>avg_wl</th>\n",
       "      <th>wl_diff</th>\n",
       "      <th>avg_per</th>\n",
       "      <th>avg_age</th>\n",
       "      <th>opp_fg_pct</th>\n",
       "      <th>avg_salary</th>\n",
       "      <th>weak_link</th>\n",
       "      <th>strong_link</th>\n",
       "    </tr>\n",
       "  </thead>\n",
       "  <tbody>\n",
       "    <tr>\n",
       "      <th>0</th>\n",
       "      <td>Cleveland_Cavaliers</td>\n",
       "      <td>2016</td>\n",
       "      <td>2.06</td>\n",
       "      <td>2.28</td>\n",
       "      <td>0.22</td>\n",
       "      <td>18.68</td>\n",
       "      <td>28.00</td>\n",
       "      <td>0.45</td>\n",
       "      <td>13,433,400.00</td>\n",
       "      <td>-0.48</td>\n",
       "      <td>0.63</td>\n",
       "    </tr>\n",
       "    <tr>\n",
       "      <th>1</th>\n",
       "      <td>Golden_State_Warriors</td>\n",
       "      <td>2016</td>\n",
       "      <td>3.19</td>\n",
       "      <td>8.11</td>\n",
       "      <td>4.93</td>\n",
       "      <td>19.52</td>\n",
       "      <td>26.20</td>\n",
       "      <td>0.43</td>\n",
       "      <td>11,408,836.80</td>\n",
       "      <td>-0.48</td>\n",
       "      <td>0.49</td>\n",
       "    </tr>\n",
       "  </tbody>\n",
       "</table>\n",
       "</div>"
      ],
      "text/plain": [
       "                    team  season         predicted_wl               avg_wl  \\\n",
       "0    Cleveland_Cavaliers    2016                 2.06                 2.28   \n",
       "1  Golden_State_Warriors    2016                 3.19                 8.11   \n",
       "\n",
       "               wl_diff              avg_per              avg_age  \\\n",
       "0                 0.22                18.68                28.00   \n",
       "1                 4.93                19.52                26.20   \n",
       "\n",
       "            opp_fg_pct           avg_salary            weak_link  \\\n",
       "0                 0.45        13,433,400.00                -0.48   \n",
       "1                 0.43        11,408,836.80                -0.48   \n",
       "\n",
       "           strong_link  \n",
       "0                 0.63  \n",
       "1                 0.49  "
      ]
     },
     "execution_count": 105,
     "metadata": {},
     "output_type": "execute_result"
    }
   ],
   "source": [
    "# Small comparison of Cleveland Cavs and Golden State Warriors for the powerpoint \n",
    "cols_needed = ['team', 'season', 'predicted_wl', 'avg_wl', 'wl_diff', 'avg_per', 'avg_age', 'opp_fg_pct', 'avg_salary', 'weak_link', 'strong_link']\n",
    "gs_cle = new2.ix[(new2.season == 2016) & (new2.team.isin(['Cleveland_Cavaliers', 'Golden_State_Warriors'])), cols_needed].reset_index()\n",
    "gs_cle.ix[:,1:12]"
   ]
  },
  {
   "cell_type": "code",
   "execution_count": null,
   "metadata": {
    "collapsed": true
   },
   "outputs": [],
   "source": []
  }
 ],
 "metadata": {
  "kernelspec": {
   "display_name": "Python [default]",
   "language": "python",
   "name": "python2"
  },
  "language_info": {
   "codemirror_mode": {
    "name": "ipython",
    "version": 2
   },
   "file_extension": ".py",
   "mimetype": "text/x-python",
   "name": "python",
   "nbconvert_exporter": "python",
   "pygments_lexer": "ipython2",
   "version": "2.7.12"
  }
 },
 "nbformat": 4,
 "nbformat_minor": 1
}
