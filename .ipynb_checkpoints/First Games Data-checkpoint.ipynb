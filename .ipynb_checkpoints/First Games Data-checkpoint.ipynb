{
 "cells": [
  {
   "cell_type": "code",
   "execution_count": 1,
   "metadata": {
    "collapsed": false
   },
   "outputs": [
    {
     "name": "stderr",
     "output_type": "stream",
     "text": [
      "/Users/maludee/anaconda2/lib/python2.7/site-packages/sklearn/cross_validation.py:44: DeprecationWarning: This module was deprecated in version 0.18 in favor of the model_selection module into which all the refactored classes and functions are moved. Also note that the interface of the new CV iterators are different from that of this module. This module will be removed in 0.20.\n",
      "  \"This module will be removed in 0.20.\", DeprecationWarning)\n"
     ]
    }
   ],
   "source": [
    "# Imports and display options\n",
    "import pandas as pd\n",
    "import numpy as np\n",
    "import matplotlib.pyplot as plt\n",
    "\n",
    "from sklearn import preprocessing\n",
    "from sklearn.cross_validation import cross_val_score\n",
    "from sklearn.linear_model import LinearRegression\n",
    "from sklearn.cross_validation import train_test_split\n",
    "from sklearn.cross_validation import KFold\n",
    "\n",
    "import seaborn as sns\n",
    "from seaborn import plt\n",
    "\n",
    "import statsmodels.api as sm\n",
    "import statsmodels.formula.api as smf\n",
    "from statsmodels.formula.api import ols\n",
    "\n",
    "import pickle\n",
    "\n",
    "pd.options.display.float_format = '{:20,.2f}'.format\n",
    "pd.options.display.max_columns = 100\n",
    "pd.options.display.max_rows = 50\n",
    "\n",
    "%matplotlib inline"
   ]
  },
  {
   "cell_type": "markdown",
   "metadata": {},
   "source": [
    "# Import and clean data"
   ]
  },
  {
   "cell_type": "code",
   "execution_count": 2,
   "metadata": {
    "collapsed": false
   },
   "outputs": [],
   "source": [
    "# Read in the 2 first-game level files:\n",
    "\n",
    "visiting_team = pd.read_csv('data/firstgames1.csv', \n",
    "                            names = ['season','team1','team2','playername', 'fg', 'fga',\n",
    "                                     'fg_pct', 'fg3_pct', 'pts','mp'])\n",
    "\n",
    "home_team = pd.read_csv('data/firstgames2.csv', \n",
    "                        names = ['season', 'team2', 'team1','playername','fg','fga',\n",
    "                                    'fg_pct','fg3_pct','pts','mp'])"
   ]
  },
  {
   "cell_type": "code",
   "execution_count": 3,
   "metadata": {
    "collapsed": false
   },
   "outputs": [],
   "source": [
    "# Change NA's to 0 in both dataframes\n",
    "visiting_team = visiting_team.fillna(0)\n",
    "home_team = home_team.fillna(0)"
   ]
  },
  {
   "cell_type": "code",
   "execution_count": 4,
   "metadata": {
    "collapsed": false
   },
   "outputs": [],
   "source": [
    "# Convert minutes played to a datetime object in both dataframes\n",
    "visiting_team['mp'] = pd.to_datetime(visiting_team['mp'], format='%M:%S')\n",
    "home_team['mp'] = pd.to_datetime(home_team['mp'], format='%M:%S')\n"
   ]
  },
  {
   "cell_type": "code",
   "execution_count": 5,
   "metadata": {
    "collapsed": false
   },
   "outputs": [],
   "source": [
    "# Determine who the starting five are based on minutes played for each dataframe.\n",
    "visiting_team = visiting_team.sort_values(['season','team1','team2','mp'], ascending = False)\n",
    "home_team = home_team.sort_values(['season','team2','team1','mp'], ascending = False)\n",
    "\n",
    "visiting_team['count'] = visiting_team.groupby(['season','team1','team2']).cumcount()+1\n",
    "home_team['count'] = home_team.groupby(['season','team1','team2']).cumcount()+1\n",
    "\n",
    "# drop any player with a count over 5\n",
    "# visiting_team = visiting_team.loc[visiting_team['count'] <= 5, ]\n",
    "# home_team = home_team.loc[home_team['count'] <= 5, ]"
   ]
  },
  {
   "cell_type": "code",
   "execution_count": 6,
   "metadata": {
    "collapsed": false
   },
   "outputs": [],
   "source": [
    "# Find the opponent data for the visiting team dataframe\n",
    "visiting_team['TO'] = visiting_team['team1'] + visiting_team['team2']\n",
    "visiting_team['FROM'] = visiting_team['team2'] + visiting_team['team1']\n",
    "\n",
    "home_team['FROM'] = home_team['team2'] + home_team['team1']\n",
    "home_team['TO'] = home_team['team1'] + home_team['team2']"
   ]
  },
  {
   "cell_type": "code",
   "execution_count": 7,
   "metadata": {
    "collapsed": false
   },
   "outputs": [],
   "source": [
    "# Add the opponent stats to the visiting_team dataframe\n",
    "team_1 = pd.merge(visiting_team, home_team[['FROM','playername','fg_pct','fg3_pct','fga','season','count']], \n",
    "                         on=['season','FROM', 'count'])\n",
    "\n",
    "# Rename the columns so that it's less confusing\n",
    "team_1.columns = ['season', 'team','opponent','name','fg','fga','fg_pct','fg3_pct','pts','mp','count',\n",
    "                        'TO','FROM', 'opp_name','opp_fg_pct','opp_fg3_pct','opp_fga']"
   ]
  },
  {
   "cell_type": "code",
   "execution_count": 8,
   "metadata": {
    "collapsed": false
   },
   "outputs": [],
   "source": [
    "# Add the opponent stats to the home team dataframe\n",
    "team_2 = pd.merge(home_team, visiting_team[['FROM','playername','fg_pct','fg3_pct','fga','season','count']], \n",
    "                         on=['season','FROM', 'count'])\n",
    "\n",
    "# Rename the columns so that it's less confusing\n",
    "team_2.columns = ['season', 'team','opponent','name','fg','fga','fg_pct','fg3_pct','pts','mp','count',\n",
    "                        'TO','FROM', 'opp_name','opp_fg_pct','opp_fg3_pct','opp_fga']"
   ]
  },
  {
   "cell_type": "code",
   "execution_count": 9,
   "metadata": {
    "collapsed": false
   },
   "outputs": [],
   "source": [
    "# Drop the unneccessary columns from the team_1 and team_2 dataframes\n",
    "\n",
    "team_1 = team_1.drop('TO', 1)\n",
    "team_2 = team_2.drop('TO', 1)\n",
    "\n",
    "team_1 = team_1.drop('FROM', 1)\n",
    "team_2 = team_2.drop('FROM', 1)\n",
    "\n",
    "# team_1 = team_1.drop('opp_name', 1)\n",
    "# team_2 = team_2.drop('opp_name', 1)"
   ]
  },
  {
   "cell_type": "code",
   "execution_count": 10,
   "metadata": {
    "collapsed": true
   },
   "outputs": [],
   "source": [
    "# Attach the two dataframes together so that it's all one big dataframe\n",
    "all_teams = team_1.append(team_2)"
   ]
  },
  {
   "cell_type": "code",
   "execution_count": 11,
   "metadata": {
    "collapsed": false
   },
   "outputs": [],
   "source": [
    "all_teams = all_teams.sort_values(['season','team','opponent','count'])"
   ]
  },
  {
   "cell_type": "code",
   "execution_count": 12,
   "metadata": {
    "collapsed": false
   },
   "outputs": [],
   "source": [
    "# Pull in the other player_data frame to get PER and salary and real team name and age by player by season\n",
    "with open(\"player_data.pkl\", 'rb') as picklefile:\n",
    "   player_data = pickle.load(picklefile)\n",
    "\n",
    "player_data = player_data.sort_values(['name','season'])\n"
   ]
  },
  {
   "cell_type": "code",
   "execution_count": 13,
   "metadata": {
    "collapsed": false
   },
   "outputs": [],
   "source": [
    "# Shift the PER, Age, and Salary so that it's last year's value\n",
    "player_data = player_data.sort_values(['name','season'])\n",
    "player_data['salary'] = player_data.groupby(['name']).salary.shift(1)\n",
    "player_data['per'] = player_data.groupby(['name']).per.shift(1)\n",
    "player_data['age'] = player_data.groupby(['name']).age.shift(1)"
   ]
  },
  {
   "cell_type": "code",
   "execution_count": 14,
   "metadata": {
    "collapsed": false
   },
   "outputs": [],
   "source": [
    "# Drop the nans (thus dropping the whole 2006 row)\n",
    "player_data = player_data[np.isfinite(player_data['salary'])]"
   ]
  },
  {
   "cell_type": "code",
   "execution_count": 15,
   "metadata": {
    "collapsed": false
   },
   "outputs": [],
   "source": [
    "# Bring in data from the player file (age, salary, PER, name, and real team name)\n",
    "all_teams = pd.merge(all_teams, player_data[['name','team','season','salary','age','per','avg_wl_ratio']], \n",
    "                     on = ['name','season'])"
   ]
  },
  {
   "cell_type": "code",
   "execution_count": 16,
   "metadata": {
    "collapsed": false
   },
   "outputs": [],
   "source": [
    "# Drop everything except the top five players for every game\n",
    "all_teams = all_teams.sort_values(['season','team_x','opponent','count'], ascending = True)\n",
    "\n",
    "all_teams = all_teams.loc[all_teams['count'] <= 5, ]"
   ]
  },
  {
   "cell_type": "code",
   "execution_count": 17,
   "metadata": {
    "collapsed": false
   },
   "outputs": [],
   "source": [
    "all_teams = all_teams.sort_values(['season','team_x','opponent', 'count'])\n"
   ]
  },
  {
   "cell_type": "code",
   "execution_count": 18,
   "metadata": {
    "collapsed": false
   },
   "outputs": [],
   "source": [
    "# Drop anything left from 2006 that escaped the other filters\n",
    "all_teams = all_teams[all_teams.season != 2006]"
   ]
  },
  {
   "cell_type": "code",
   "execution_count": 19,
   "metadata": {
    "collapsed": true
   },
   "outputs": [],
   "source": [
    "# Drop columns function for simplicity\n",
    "def drop_columns(df, column_list):\n",
    "    for l in column_list:\n",
    "        df.drop(l, axis = 1, inplace = True)"
   ]
  },
  {
   "cell_type": "code",
   "execution_count": 20,
   "metadata": {
    "collapsed": true
   },
   "outputs": [],
   "source": [
    "# Drop columns that are no longer needed\n",
    "drop_columns(all_teams, ['team_x','opponent','mp','count','opp_name','fg'])"
   ]
  },
  {
   "cell_type": "code",
   "execution_count": 21,
   "metadata": {
    "collapsed": false
   },
   "outputs": [],
   "source": [
    "# Rename the columns so that it's less confusing\n",
    "all_teams.columns = ['season', 'name','fg_att','fg_pct','fg3_pct','points',\n",
    "                     'opp_fg_pct', 'opp_fg3_pct','opp_fg_att',\n",
    "                  'team','salary','age','per','avg_wl_ratio']"
   ]
  },
  {
   "cell_type": "code",
   "execution_count": 22,
   "metadata": {
    "collapsed": false
   },
   "outputs": [],
   "source": [
    "# Get the means by team/season for various features\n",
    "avg_teams = all_teams.groupby(['team','season'], as_index = False)['fg_att', 'fg_pct','fg3_pct','points',\n",
    "                                                                 'opp_fg_pct','opp_fg3_pct','opp_fg_att',\n",
    "                                                                  'salary','age','per','avg_wl_ratio'].mean()"
   ]
  },
  {
   "cell_type": "code",
   "execution_count": 23,
   "metadata": {
    "collapsed": true
   },
   "outputs": [],
   "source": [
    "# Make superstar player function\n",
    "def link_strength(df, points, salary, per):\n",
    "    pts_diff = df[points] / df['avg_' + points] - 1\n",
    "    sl_diff = df[salary] / df['avg_' + salary] - 1\n",
    "    per_diff = df[per] / df['avg_' + per] - 1\n",
    "    return ((pts_diff + sl_diff + per_diff) / 3)\n",
    "#     return sl_diff"
   ]
  },
  {
   "cell_type": "code",
   "execution_count": 24,
   "metadata": {
    "collapsed": true
   },
   "outputs": [],
   "source": [
    "# Rename the columns so that it's clear they're all averages\n",
    "avg_teams.columns = ['team','season','avg_fg_att','avg_fg_pct','avg_fg3_pct','avg_points','avg_opp_fg_pct',\n",
    "                     'avg_opp_fg3_pct','avg_opp_fg_att','avg_salary','avg_age','avg_per','avg_wl_ratio']"
   ]
  },
  {
   "cell_type": "code",
   "execution_count": 25,
   "metadata": {
    "collapsed": false
   },
   "outputs": [],
   "source": [
    "# Merge averages with the player_data dataframe so that all columns are included\n",
    "all_teams = pd.merge(all_teams, avg_teams[['team','season','avg_points','avg_fg_att','avg_fg_pct',\n",
    "                                           'avg_fg3_pct','avg_opp_fg_pct','avg_opp_fg3_pct','avg_opp_fg_att',\n",
    "                                           'avg_salary','avg_age','avg_per']], \n",
    "                       on=['team','season'])"
   ]
  },
  {
   "cell_type": "code",
   "execution_count": 26,
   "metadata": {
    "collapsed": false
   },
   "outputs": [],
   "source": [
    "all_teams['link_strength'] = link_strength(all_teams, 'points', 'salary', 'per')"
   ]
  },
  {
   "cell_type": "code",
   "execution_count": 27,
   "metadata": {
    "collapsed": true
   },
   "outputs": [],
   "source": [
    "# Add a strong link and weak link column with the max and min link strengths, respectively\n",
    "all_teams['strong_link'] = all_teams.groupby(['team','season'])['link_strength'].transform('max')\n",
    "all_teams['weak_link'] = all_teams.groupby(['team','season'])['link_strength'].transform('min')"
   ]
  },
  {
   "cell_type": "code",
   "execution_count": 28,
   "metadata": {
    "collapsed": true
   },
   "outputs": [],
   "source": [
    "# Collapse the the table to the team level by averaging everything\n",
    "all_teams = all_teams.groupby(['team','season'], as_index = False).mean()"
   ]
  },
  {
   "cell_type": "code",
   "execution_count": 29,
   "metadata": {
    "collapsed": false
   },
   "outputs": [],
   "source": [
    "# Drop duplicates and also unnecessary columns\n",
    "drop_columns(all_teams, ['fg_att','fg_pct','fg3_pct','points','opp_fg_pct','opp_fg3_pct','opp_fg_att','salary',\n",
    "                         'age','per','link_strength'])"
   ]
  },
  {
   "cell_type": "code",
   "execution_count": 30,
   "metadata": {
    "collapsed": false
   },
   "outputs": [
    {
     "data": {
      "text/html": [
       "<div>\n",
       "<table border=\"1\" class=\"dataframe\">\n",
       "  <thead>\n",
       "    <tr style=\"text-align: right;\">\n",
       "      <th></th>\n",
       "      <th>team</th>\n",
       "      <th>season</th>\n",
       "      <th>avg_wl_ratio</th>\n",
       "      <th>avg_points</th>\n",
       "      <th>avg_fg_att</th>\n",
       "      <th>avg_fg_pct</th>\n",
       "      <th>avg_fg3_pct</th>\n",
       "      <th>avg_opp_fg_pct</th>\n",
       "      <th>avg_opp_fg3_pct</th>\n",
       "      <th>avg_opp_fg_att</th>\n",
       "      <th>avg_salary</th>\n",
       "      <th>avg_age</th>\n",
       "      <th>avg_per</th>\n",
       "      <th>strong_link</th>\n",
       "      <th>weak_link</th>\n",
       "    </tr>\n",
       "  </thead>\n",
       "  <tbody>\n",
       "    <tr>\n",
       "      <th>0</th>\n",
       "      <td>Atlanta Hawks</td>\n",
       "      <td>2009</td>\n",
       "      <td>1.34</td>\n",
       "      <td>14.40</td>\n",
       "      <td>12.80</td>\n",
       "      <td>0.41</td>\n",
       "      <td>0.26</td>\n",
       "      <td>0.40</td>\n",
       "      <td>0.14</td>\n",
       "      <td>14.40</td>\n",
       "      <td>6,943,544.00</td>\n",
       "      <td>25.40</td>\n",
       "      <td>15.98</td>\n",
       "      <td>0.59</td>\n",
       "      <td>-0.44</td>\n",
       "    </tr>\n",
       "    <tr>\n",
       "      <th>1</th>\n",
       "      <td>Atlanta Hawks</td>\n",
       "      <td>2010</td>\n",
       "      <td>1.83</td>\n",
       "      <td>15.40</td>\n",
       "      <td>11.70</td>\n",
       "      <td>0.49</td>\n",
       "      <td>0.23</td>\n",
       "      <td>0.56</td>\n",
       "      <td>0.30</td>\n",
       "      <td>10.80</td>\n",
       "      <td>9,775,806.60</td>\n",
       "      <td>24.80</td>\n",
       "      <td>16.94</td>\n",
       "      <td>0.38</td>\n",
       "      <td>-0.31</td>\n",
       "    </tr>\n",
       "    <tr>\n",
       "      <th>2</th>\n",
       "      <td>Atlanta Hawks</td>\n",
       "      <td>2011</td>\n",
       "      <td>1.16</td>\n",
       "      <td>16.21</td>\n",
       "      <td>10.79</td>\n",
       "      <td>0.53</td>\n",
       "      <td>0.19</td>\n",
       "      <td>0.53</td>\n",
       "      <td>0.37</td>\n",
       "      <td>11.00</td>\n",
       "      <td>9,369,681.57</td>\n",
       "      <td>26.43</td>\n",
       "      <td>16.80</td>\n",
       "      <td>0.43</td>\n",
       "      <td>-0.35</td>\n",
       "    </tr>\n",
       "    <tr>\n",
       "      <th>3</th>\n",
       "      <td>Atlanta Hawks</td>\n",
       "      <td>2012</td>\n",
       "      <td>1.54</td>\n",
       "      <td>13.25</td>\n",
       "      <td>10.15</td>\n",
       "      <td>0.49</td>\n",
       "      <td>0.27</td>\n",
       "      <td>0.43</td>\n",
       "      <td>0.28</td>\n",
       "      <td>10.85</td>\n",
       "      <td>7,572,288.45</td>\n",
       "      <td>25.70</td>\n",
       "      <td>16.39</td>\n",
       "      <td>0.58</td>\n",
       "      <td>-0.58</td>\n",
       "    </tr>\n",
       "    <tr>\n",
       "      <th>4</th>\n",
       "      <td>Atlanta Hawks</td>\n",
       "      <td>2014</td>\n",
       "      <td>0.86</td>\n",
       "      <td>15.40</td>\n",
       "      <td>11.20</td>\n",
       "      <td>0.46</td>\n",
       "      <td>0.20</td>\n",
       "      <td>0.51</td>\n",
       "      <td>0.31</td>\n",
       "      <td>10.20</td>\n",
       "      <td>5,665,218.40</td>\n",
       "      <td>26.60</td>\n",
       "      <td>19.10</td>\n",
       "      <td>0.29</td>\n",
       "      <td>-0.29</td>\n",
       "    </tr>\n",
       "  </tbody>\n",
       "</table>\n",
       "</div>"
      ],
      "text/plain": [
       "            team  season         avg_wl_ratio           avg_points  \\\n",
       "0  Atlanta Hawks    2009                 1.34                14.40   \n",
       "1  Atlanta Hawks    2010                 1.83                15.40   \n",
       "2  Atlanta Hawks    2011                 1.16                16.21   \n",
       "3  Atlanta Hawks    2012                 1.54                13.25   \n",
       "4  Atlanta Hawks    2014                 0.86                15.40   \n",
       "\n",
       "            avg_fg_att           avg_fg_pct          avg_fg3_pct  \\\n",
       "0                12.80                 0.41                 0.26   \n",
       "1                11.70                 0.49                 0.23   \n",
       "2                10.79                 0.53                 0.19   \n",
       "3                10.15                 0.49                 0.27   \n",
       "4                11.20                 0.46                 0.20   \n",
       "\n",
       "        avg_opp_fg_pct      avg_opp_fg3_pct       avg_opp_fg_att  \\\n",
       "0                 0.40                 0.14                14.40   \n",
       "1                 0.56                 0.30                10.80   \n",
       "2                 0.53                 0.37                11.00   \n",
       "3                 0.43                 0.28                10.85   \n",
       "4                 0.51                 0.31                10.20   \n",
       "\n",
       "            avg_salary              avg_age              avg_per  \\\n",
       "0         6,943,544.00                25.40                15.98   \n",
       "1         9,775,806.60                24.80                16.94   \n",
       "2         9,369,681.57                26.43                16.80   \n",
       "3         7,572,288.45                25.70                16.39   \n",
       "4         5,665,218.40                26.60                19.10   \n",
       "\n",
       "           strong_link            weak_link  \n",
       "0                 0.59                -0.44  \n",
       "1                 0.38                -0.31  \n",
       "2                 0.43                -0.35  \n",
       "3                 0.58                -0.58  \n",
       "4                 0.29                -0.29  "
      ]
     },
     "execution_count": 30,
     "metadata": {},
     "output_type": "execute_result"
    }
   ],
   "source": [
    "# Rename to keep them all straight\n",
    "first_games = all_teams\n",
    "first_games.head()"
   ]
  },
  {
   "cell_type": "code",
   "execution_count": 31,
   "metadata": {
    "collapsed": true
   },
   "outputs": [],
   "source": [
    "with open('first_games.pkl', 'wb') as picklefile:\n",
    "   pickle.dump(all_teams, picklefile)"
   ]
  },
  {
   "cell_type": "code",
   "execution_count": null,
   "metadata": {
    "collapsed": true
   },
   "outputs": [],
   "source": []
  }
 ],
 "metadata": {
  "anaconda-cloud": {},
  "kernelspec": {
   "display_name": "Python [default]",
   "language": "python",
   "name": "python2"
  },
  "language_info": {
   "codemirror_mode": {
    "name": "ipython",
    "version": 2
   },
   "file_extension": ".py",
   "mimetype": "text/x-python",
   "name": "python",
   "nbconvert_exporter": "python",
   "pygments_lexer": "ipython2",
   "version": "2.7.12"
  }
 },
 "nbformat": 4,
 "nbformat_minor": 1
}
