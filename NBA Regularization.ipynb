{
 "cells": [
  {
   "cell_type": "code",
   "execution_count": 1,
   "metadata": {
    "collapsed": false
   },
   "outputs": [
    {
     "name": "stderr",
     "output_type": "stream",
     "text": [
      "/Users/maludee/anaconda2/lib/python2.7/site-packages/sklearn/cross_validation.py:44: DeprecationWarning: This module was deprecated in version 0.18 in favor of the model_selection module into which all the refactored classes and functions are moved. Also note that the interface of the new CV iterators are different from that of this module. This module will be removed in 0.20.\n",
      "  \"This module will be removed in 0.20.\", DeprecationWarning)\n"
     ]
    }
   ],
   "source": [
    "# Imports and display options\n",
    "import pandas as pd\n",
    "import numpy as np\n",
    "import matplotlib.pyplot as plt\n",
    "\n",
    "from sklearn import preprocessing\n",
    "from sklearn.cross_validation import cross_val_score\n",
    "from sklearn.linear_model import LinearRegression\n",
    "from sklearn.cross_validation import train_test_split\n",
    "from sklearn.cross_validation import KFold\n",
    "from sklearn.linear_model import RidgeCV\n",
    "from sklearn.linear_model import Ridge\n",
    "from sklearn.pipeline import make_pipeline\n",
    "from sklearn.linear_model import Lasso\n",
    "\n",
    "import seaborn as sns\n",
    "from seaborn import plt\n",
    "\n",
    "import statsmodels.api as sm\n",
    "import statsmodels.formula.api as smf\n",
    "from statsmodels.formula.api import ols\n",
    "\n",
    "import pickle\n",
    "\n",
    "pd.options.display.float_format = '{:20,.2f}'.format\n",
    "pd.options.display.max_columns = 100\n",
    "pd.options.display.max_rows = 20\n",
    "\n",
    "%matplotlib inline"
   ]
  },
  {
   "cell_type": "code",
   "execution_count": 2,
   "metadata": {
    "collapsed": true
   },
   "outputs": [],
   "source": [
    "with open(\"team_stats.pkl\", 'rb') as picklefile:\n",
    "   team_stats = pickle.load(picklefile)"
   ]
  },
  {
   "cell_type": "code",
   "execution_count": 3,
   "metadata": {
    "collapsed": false
   },
   "outputs": [
    {
     "data": {
      "text/html": [
       "<div>\n",
       "<table border=\"1\" class=\"dataframe\">\n",
       "  <thead>\n",
       "    <tr style=\"text-align: right;\">\n",
       "      <th></th>\n",
       "      <th>avg_field_goals</th>\n",
       "      <th>avg_fg_att</th>\n",
       "      <th>avg_fg3_pct</th>\n",
       "      <th>avg_steals</th>\n",
       "      <th>avg_salary</th>\n",
       "      <th>avg_age</th>\n",
       "      <th>avg_per</th>\n",
       "      <th>avg_pct_started</th>\n",
       "      <th>strong_link</th>\n",
       "      <th>weak_link</th>\n",
       "      <th>opp_3_pct</th>\n",
       "      <th>opp_fg_pct</th>\n",
       "      <th>opp_fg_att</th>\n",
       "      <th>pace</th>\n",
       "      <th>log_avg_wl</th>\n",
       "    </tr>\n",
       "  </thead>\n",
       "  <tbody>\n",
       "    <tr>\n",
       "      <th>0</th>\n",
       "      <td>387.00</td>\n",
       "      <td>866.80</td>\n",
       "      <td>0.28</td>\n",
       "      <td>73.00</td>\n",
       "      <td>4,992,921.60</td>\n",
       "      <td>22.80</td>\n",
       "      <td>14.56</td>\n",
       "      <td>0.91</td>\n",
       "      <td>0.75</td>\n",
       "      <td>-0.68</td>\n",
       "      <td>0.37</td>\n",
       "      <td>0.48</td>\n",
       "      <td>6433</td>\n",
       "      <td>90.40</td>\n",
       "      <td>-0.77</td>\n",
       "    </tr>\n",
       "    <tr>\n",
       "      <th>1</th>\n",
       "      <td>347.00</td>\n",
       "      <td>763.40</td>\n",
       "      <td>0.28</td>\n",
       "      <td>68.40</td>\n",
       "      <td>5,066,493.80</td>\n",
       "      <td>22.20</td>\n",
       "      <td>15.82</td>\n",
       "      <td>0.66</td>\n",
       "      <td>0.75</td>\n",
       "      <td>-0.39</td>\n",
       "      <td>0.38</td>\n",
       "      <td>0.47</td>\n",
       "      <td>6335</td>\n",
       "      <td>90.00</td>\n",
       "      <td>-0.55</td>\n",
       "    </tr>\n",
       "    <tr>\n",
       "      <th>2</th>\n",
       "      <td>418.40</td>\n",
       "      <td>925.40</td>\n",
       "      <td>0.22</td>\n",
       "      <td>76.60</td>\n",
       "      <td>7,488,752.00</td>\n",
       "      <td>23.80</td>\n",
       "      <td>16.08</td>\n",
       "      <td>0.86</td>\n",
       "      <td>0.48</td>\n",
       "      <td>-0.29</td>\n",
       "      <td>0.36</td>\n",
       "      <td>0.46</td>\n",
       "      <td>6733</td>\n",
       "      <td>91.10</td>\n",
       "      <td>-0.20</td>\n",
       "    </tr>\n",
       "    <tr>\n",
       "      <th>3</th>\n",
       "      <td>414.40</td>\n",
       "      <td>898.00</td>\n",
       "      <td>0.28</td>\n",
       "      <td>77.20</td>\n",
       "      <td>9,775,806.60</td>\n",
       "      <td>24.80</td>\n",
       "      <td>16.94</td>\n",
       "      <td>0.86</td>\n",
       "      <td>0.35</td>\n",
       "      <td>-0.30</td>\n",
       "      <td>0.35</td>\n",
       "      <td>0.45</td>\n",
       "      <td>6609</td>\n",
       "      <td>89.60</td>\n",
       "      <td>0.29</td>\n",
       "    </tr>\n",
       "    <tr>\n",
       "      <th>4</th>\n",
       "      <td>435.20</td>\n",
       "      <td>908.00</td>\n",
       "      <td>0.41</td>\n",
       "      <td>80.80</td>\n",
       "      <td>8,760,402.20</td>\n",
       "      <td>25.80</td>\n",
       "      <td>17.08</td>\n",
       "      <td>0.97</td>\n",
       "      <td>0.43</td>\n",
       "      <td>-0.30</td>\n",
       "      <td>0.34</td>\n",
       "      <td>0.46</td>\n",
       "      <td>6623</td>\n",
       "      <td>90.10</td>\n",
       "      <td>0.60</td>\n",
       "    </tr>\n",
       "  </tbody>\n",
       "</table>\n",
       "</div>"
      ],
      "text/plain": [
       "       avg_field_goals           avg_fg_att          avg_fg3_pct  \\\n",
       "0               387.00               866.80                 0.28   \n",
       "1               347.00               763.40                 0.28   \n",
       "2               418.40               925.40                 0.22   \n",
       "3               414.40               898.00                 0.28   \n",
       "4               435.20               908.00                 0.41   \n",
       "\n",
       "            avg_steals           avg_salary              avg_age  \\\n",
       "0                73.00         4,992,921.60                22.80   \n",
       "1                68.40         5,066,493.80                22.20   \n",
       "2                76.60         7,488,752.00                23.80   \n",
       "3                77.20         9,775,806.60                24.80   \n",
       "4                80.80         8,760,402.20                25.80   \n",
       "\n",
       "               avg_per      avg_pct_started          strong_link  \\\n",
       "0                14.56                 0.91                 0.75   \n",
       "1                15.82                 0.66                 0.75   \n",
       "2                16.08                 0.86                 0.48   \n",
       "3                16.94                 0.86                 0.35   \n",
       "4                17.08                 0.97                 0.43   \n",
       "\n",
       "             weak_link            opp_3_pct           opp_fg_pct  opp_fg_att  \\\n",
       "0                -0.68                 0.37                 0.48        6433   \n",
       "1                -0.39                 0.38                 0.47        6335   \n",
       "2                -0.29                 0.36                 0.46        6733   \n",
       "3                -0.30                 0.35                 0.45        6609   \n",
       "4                -0.30                 0.34                 0.46        6623   \n",
       "\n",
       "                  pace           log_avg_wl  \n",
       "0                90.40                -0.77  \n",
       "1                90.00                -0.55  \n",
       "2                91.10                -0.20  \n",
       "3                89.60                 0.29  \n",
       "4                90.10                 0.60  "
      ]
     },
     "execution_count": 3,
     "metadata": {},
     "output_type": "execute_result"
    }
   ],
   "source": [
    "team_stats['log_avg_wl'] = np.log(team_stats.avg_wl_ratio)\n",
    "team_stats = team_stats.drop(['avg_wl_ratio','team','season'],1)\n",
    "team_stats.head()"
   ]
  },
  {
   "cell_type": "code",
   "execution_count": 4,
   "metadata": {
    "collapsed": false
   },
   "outputs": [],
   "source": [
    "team_norm = (team_stats - team_stats.min()) / (team_stats.max() - team_stats.min())"
   ]
  },
  {
   "cell_type": "code",
   "execution_count": 5,
   "metadata": {
    "collapsed": false
   },
   "outputs": [],
   "source": [
    "y_team=team_stats['log_avg_wl']\n",
    "X_team=team_stats.drop(['log_avg_wl','avg_field_goals'],1)"
   ]
  },
  {
   "cell_type": "code",
   "execution_count": 6,
   "metadata": {
    "collapsed": false
   },
   "outputs": [
    {
     "data": {
      "text/plain": [
       "(329,)"
      ]
     },
     "execution_count": 6,
     "metadata": {},
     "output_type": "execute_result"
    }
   ],
   "source": [
    "X_team.shape\n",
    "y_team.shape"
   ]
  },
  {
   "cell_type": "code",
   "execution_count": 7,
   "metadata": {
    "collapsed": false
   },
   "outputs": [
    {
     "data": {
      "text/plain": [
       "0.77666533643187285"
      ]
     },
     "execution_count": 7,
     "metadata": {},
     "output_type": "execute_result"
    }
   ],
   "source": [
    "lr=LinearRegression()\n",
    "\n",
    "xtrain, xtest, ytrain, ytest = train_test_split(X_team, y_team, test_size=0.3)\n",
    "\n",
    "lr.fit(xtrain, ytrain)\n",
    "lr.score(xtest, ytest)"
   ]
  },
  {
   "cell_type": "code",
   "execution_count": 12,
   "metadata": {
    "collapsed": false
   },
   "outputs": [
    {
     "data": {
      "text/plain": [
       "0.71752031290331386"
      ]
     },
     "execution_count": 12,
     "metadata": {},
     "output_type": "execute_result"
    }
   ],
   "source": [
    "rcv = RidgeCV(cv=5)\n",
    "rcv.fit(xtrain, ytrain)\n",
    "rcv.score(xtest, ytest)"
   ]
  },
  {
   "cell_type": "code",
   "execution_count": 35,
   "metadata": {
    "collapsed": false
   },
   "outputs": [
    {
     "data": {
      "image/png": "[encoded data removed]",
      "text/plain": [
       "<matplotlib.figure.Figure at 0x11bccf410>"
      ]
     },
     "metadata": {},
     "output_type": "display_data"
    }
   ],
   "source": [
    "# Test, train, split option via Ridge \n",
    "alphas=[1e-5,1e-3,1e-1,1,100]\n",
    "X_train, X_test, y_train, y_test = train_test_split(X_team, y_team, test_size=0.3)\n",
    "\n",
    "def make_estimator(est,alpha):\n",
    "    est.alpha=alpha\n",
    "    model = est.fit(X_train,y_train)\n",
    "    mse=np.mean(y_test-model.predict(X_test))**2\n",
    "    return mse\n",
    "    \n",
    "# Get scores\n",
    "all_mse=[]    \n",
    "for a in alphas:    \n",
    "    all_mse.append(make_estimator(Ridge(),a))\n",
    "    \n",
    "\n",
    "#plot of model\n",
    "plt.figure(figsize=(8,6))\n",
    "plt.legend()\n",
    "plt.plot(np.log10(alphas),all_mse)\n",
    "plt.legend()\n",
    "plt.xlabel('alphas')\n",
    "plt.ylabel('MSE')\n",
    "plt.show()"
   ]
  },
  {
   "cell_type": "code",
   "execution_count": 27,
   "metadata": {
    "collapsed": false
   },
   "outputs": [
    {
     "ename": "NameError",
     "evalue": "name 'model' is not defined",
     "output_type": "error",
     "traceback": [
      "\u001b[0;31m---------------------------------------------------------------------------\u001b[0m",
      "\u001b[0;31mNameError\u001b[0m                                 Traceback (most recent call last)",
      "\u001b[0;32m<ipython-input-27-b22da2f081c7>\u001b[0m in \u001b[0;36m<module>\u001b[0;34m()\u001b[0m\n\u001b[0;32m----> 1\u001b[0;31m \u001b[0my_test_pred\u001b[0m \u001b[0;34m=\u001b[0m \u001b[0mmodel\u001b[0m\u001b[0;34m.\u001b[0m\u001b[0mpredict\u001b[0m\u001b[0;34m(\u001b[0m\u001b[0mX_test\u001b[0m\u001b[0;34m)\u001b[0m\u001b[0;34m\u001b[0m\u001b[0m\n\u001b[0m\u001b[1;32m      2\u001b[0m \u001b[0;32mprint\u001b[0m \u001b[0my_test_pred\u001b[0m\u001b[0;34m\u001b[0m\u001b[0m\n",
      "\u001b[0;31mNameError\u001b[0m: name 'model' is not defined"
     ]
    }
   ],
   "source": [
    "y_test_pred = model.predict(X_test)\n",
    "print y_test_pred\n"
   ]
  },
  {
   "cell_type": "code",
   "execution_count": null,
   "metadata": {
    "collapsed": false
   },
   "outputs": [],
   "source": [
    "zipped=zip(X_team.columns,est.coef_)\n",
    "features=sorted(zipped,key = lambda t: t[1],reverse=True)\n",
    "features[:5]"
   ]
  },
  {
   "cell_type": "code",
   "execution_count": null,
   "metadata": {
    "collapsed": false
   },
   "outputs": [],
   "source": [
    "print mean_squared_error(y_test, y_test_pred)\n",
    "plt.scatter(y_test, y_test_pred)\n",
    "plt.xlabel(\"actual\")\n",
    "plt.ylabel(\"prediction\");"
   ]
  },
  {
   "cell_type": "code",
   "execution_count": null,
   "metadata": {
    "collapsed": false
   },
   "outputs": [],
   "source": []
  },
  {
   "cell_type": "code",
   "execution_count": null,
   "metadata": {
    "collapsed": true
   },
   "outputs": [],
   "source": []
  }
 ],
 "metadata": {
  "kernelspec": {
   "display_name": "Python [conda root]",
   "language": "python",
   "name": "conda-root-py"
  },
  "language_info": {
   "codemirror_mode": {
    "name": "ipython",
    "version": 2
   },
   "file_extension": ".py",
   "mimetype": "text/x-python",
   "name": "python",
   "nbconvert_exporter": "python",
   "pygments_lexer": "ipython2",
   "version": "2.7.12"
  }
 },
 "nbformat": 4,
 "nbformat_minor": 1
}
