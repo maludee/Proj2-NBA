{
 "cells": [
  {
   "cell_type": "code",
   "execution_count": 7,
   "metadata": {
    "collapsed": false
   },
   "outputs": [
    {
     "ename": "SyntaxError",
     "evalue": "invalid syntax (<ipython-input-7-20d4f94c61c4>, line 70)",
     "output_type": "error",
     "traceback": [
      "\u001b[0;36m  File \u001b[0;32m\"<ipython-input-7-20d4f94c61c4>\"\u001b[0;36m, line \u001b[0;32m70\u001b[0m\n\u001b[0;31m    return rosters_dict\u001b[0m\n\u001b[0m         ^\u001b[0m\n\u001b[0;31mSyntaxError\u001b[0m\u001b[0;31m:\u001b[0m invalid syntax\n"
     ]
    }
   ],
   "source": [
    "import scrapy\n",
    "import time\n",
    "from selenium import webdriver\n",
    "#from scrapy.http.request import Request\n",
    "#from selenium.webdriver.common.keys import Keys\n",
    "import os\n",
    "import json\n",
    "\n",
    "rosters_dict = {}\n",
    "chromedriver = \"/Users/R1/chromedriver\"\n",
    "os.environ[\"webdriver.chrome.driver\"] = chromedriver\n",
    "\n",
    "class bballref(scrapy.Spider):\n",
    "    name = \"bbref\"\n",
    "    custom_settings = {\n",
    "            \"DOWNLOAD_DELAY\" : 2,\n",
    "            \"CONCURRENT_REQUESTS_PER_DOMAIN\": 2\n",
    "            }\n",
    "  \n",
    "    def __init__(self):\n",
    "        self.driver = webdriver.Chrome(chromedriver)\n",
    "        scrapy.Spider.__init__(self)\n",
    "\n",
    "    def __del__(self):\n",
    "        scrapy.Spider.__del__(self)\n",
    "\n",
    "    def start_requests(self):\n",
    "        url = 'http://www.basketball-reference.com/leagues/NBA_2016.html' \n",
    "        yield scrapy.Request(url = url, callback = self.team_links)\n",
    "    \n",
    "    def team_links(self, response):\n",
    "        team_urls = response.xpath('//div[contains(@id, \"all_confs_standings\")]//a')\n",
    "        for i in team_urls:\n",
    "            name = i.xpath('./text()').extract()[0]\n",
    "            print name\n",
    "            url_stub = i.xpath('./@href').extract()[0] \n",
    "            url = 'http://www.basketball-reference.com'+ url_stub\n",
    "            yield scrapy.Request(url = url, callback = self.get_stats, meta = {'team':name})\n",
    "\n",
    "\n",
    "    def get_stats(self, response):\n",
    "        team = response.request.meta['team']\n",
    "        player_list = []\n",
    "        # feed url to selenium\n",
    "        self.driver.get(response.url)\n",
    "        # maximize selenium window (indicates process has started)\n",
    "        self.driver.maximize_window()\n",
    "        # give time to load data\n",
    "        time.sleep(3)\n",
    "        # find totals table, loop through each row (player) and pull out relevant statistics\n",
    "        for i in self.driver.find_elements_by_xpath('//table[@id=\"totals\"]//tbody//tr'):\n",
    "            try:\n",
    "                player_name = i.find_element_by_xpath('.//td[@data-stat=\"player\"]').text\n",
    "                minutes_played =  i.find_element_by_xpath('.//td[@data-stat=\"mp\"]').text\n",
    "                games_played = i.find_element_by_xpath('.//td[@data-stat=\"g\"]').text\n",
    "                games_started = i.find_element_by_xpath('.//td[@data-stat=\"gs\"]').text\n",
    "                points = i.find_element_by_xpath('.//td[@data-stat=\"pts\"]').text\n",
    "                # create a tuple for each player, append to list\n",
    "                player = (player_name, minutes_played, games_played, games_started, points)\n",
    "                player_list.append(player)\n",
    "                \n",
    "            except:\n",
    "                continue\n",
    "        # create new entry in rosters dictionary for each team\n",
    "        rosters_dict[team] = player_list\n",
    "        # will save every iteration, could be more efficient\n",
    "        f = open('rosters.txt','w')\n",
    "        f.write(json.dumps(rosters_dict)\n",
    "        \n",
    "        return rosters_dict\n"
   ]
  },
  {
   "cell_type": "code",
   "execution_count": null,
   "metadata": {
    "collapsed": true
   },
   "outputs": [],
   "source": []
  },
  {
   "cell_type": "code",
   "execution_count": null,
   "metadata": {
    "collapsed": true
   },
   "outputs": [],
   "source": []
  }
 ],
 "metadata": {
  "anaconda-cloud": {},
  "kernelspec": {
   "display_name": "Python [default]",
   "language": "python",
   "name": "python2"
  },
  "language_info": {
   "codemirror_mode": {
    "name": "ipython",
    "version": 2
   },
   "file_extension": ".py",
   "mimetype": "text/x-python",
   "name": "python",
   "nbconvert_exporter": "python",
   "pygments_lexer": "ipython2",
   "version": "2.7.12"
  }
 },
 "nbformat": 4,
 "nbformat_minor": 1
}
