{
 "cells": [
  {
   "cell_type": "code",
   "execution_count": 1,
   "metadata": {
    "collapsed": true
   },
   "outputs": [],
   "source": [
    "import pandas as pd"
   ]
  },
  {
   "cell_type": "code",
   "execution_count": 28,
   "metadata": {
    "collapsed": false
   },
   "outputs": [],
   "source": [
    "# Read in the 3 player-level csv files\n",
    "player_totals = pd.read_csv('playertotals.csv', \n",
    "                            names = ['name','team','season','minutes_played',\n",
    "                            'games_played','games_started','points','wins','losses'])\n",
    "salaries = pd.read_csv('salaries.csv', names = ['name', 'team', 'season', 'salary'])\n",
    "advanced_data = pd.read_csv('advanced.csv', names = ['name','team','season','age','per'])"
   ]
  },
  {
   "cell_type": "code",
   "execution_count": 30,
   "metadata": {
    "collapsed": false
   },
   "outputs": [
    {
     "data": {
      "text/html": [
       "<div>\n",
       "<table border=\"1\" class=\"dataframe\">\n",
       "  <thead>\n",
       "    <tr style=\"text-align: right;\">\n",
       "      <th></th>\n",
       "      <th>name</th>\n",
       "      <th>team</th>\n",
       "      <th>season</th>\n",
       "      <th>minutes_played</th>\n",
       "      <th>games_played</th>\n",
       "      <th>games_started</th>\n",
       "      <th>points</th>\n",
       "      <th>wins</th>\n",
       "      <th>losses</th>\n",
       "      <th>salary</th>\n",
       "      <th>age</th>\n",
       "      <th>per</th>\n",
       "    </tr>\n",
       "  </thead>\n",
       "  <tbody>\n",
       "    <tr>\n",
       "      <th>0</th>\n",
       "      <td>Kyle Lowry</td>\n",
       "      <td>Toronto Raptors</td>\n",
       "      <td>2016</td>\n",
       "      <td>2851</td>\n",
       "      <td>77</td>\n",
       "      <td>77</td>\n",
       "      <td>1634</td>\n",
       "      <td>56</td>\n",
       "      <td>26</td>\n",
       "      <td>$12,000,000</td>\n",
       "      <td>29</td>\n",
       "      <td>22.2</td>\n",
       "    </tr>\n",
       "    <tr>\n",
       "      <th>1</th>\n",
       "      <td>DeMar DeRozan</td>\n",
       "      <td>Toronto Raptors</td>\n",
       "      <td>2016</td>\n",
       "      <td>2804</td>\n",
       "      <td>78</td>\n",
       "      <td>78</td>\n",
       "      <td>1830</td>\n",
       "      <td>56</td>\n",
       "      <td>26</td>\n",
       "      <td>$9,500,000</td>\n",
       "      <td>26</td>\n",
       "      <td>21.5</td>\n",
       "    </tr>\n",
       "    <tr>\n",
       "      <th>2</th>\n",
       "      <td>Cory Joseph</td>\n",
       "      <td>Toronto Raptors</td>\n",
       "      <td>2016</td>\n",
       "      <td>2046</td>\n",
       "      <td>80</td>\n",
       "      <td>4</td>\n",
       "      <td>677</td>\n",
       "      <td>56</td>\n",
       "      <td>26</td>\n",
       "      <td>$7,000,000</td>\n",
       "      <td>24</td>\n",
       "      <td>12.4</td>\n",
       "    </tr>\n",
       "    <tr>\n",
       "      <th>3</th>\n",
       "      <td>Patrick Patterson</td>\n",
       "      <td>Toronto Raptors</td>\n",
       "      <td>2016</td>\n",
       "      <td>2020</td>\n",
       "      <td>79</td>\n",
       "      <td>0</td>\n",
       "      <td>543</td>\n",
       "      <td>56</td>\n",
       "      <td>26</td>\n",
       "      <td>$6,268,675</td>\n",
       "      <td>26</td>\n",
       "      <td>10.6</td>\n",
       "    </tr>\n",
       "    <tr>\n",
       "      <th>4</th>\n",
       "      <td>Bismack Biyombo</td>\n",
       "      <td>Toronto Raptors</td>\n",
       "      <td>2016</td>\n",
       "      <td>1808</td>\n",
       "      <td>82</td>\n",
       "      <td>22</td>\n",
       "      <td>454</td>\n",
       "      <td>56</td>\n",
       "      <td>26</td>\n",
       "      <td>$3,000,000</td>\n",
       "      <td>23</td>\n",
       "      <td>14.9</td>\n",
       "    </tr>\n",
       "  </tbody>\n",
       "</table>\n",
       "</div>"
      ],
      "text/plain": [
       "                name             team  season  minutes_played  games_played  \\\n",
       "0         Kyle Lowry  Toronto Raptors    2016            2851            77   \n",
       "1      DeMar DeRozan  Toronto Raptors    2016            2804            78   \n",
       "2        Cory Joseph  Toronto Raptors    2016            2046            80   \n",
       "3  Patrick Patterson  Toronto Raptors    2016            2020            79   \n",
       "4    Bismack Biyombo  Toronto Raptors    2016            1808            82   \n",
       "\n",
       "   games_started  points  wins  losses       salary  age   per  \n",
       "0             77    1634    56      26  $12,000,000   29  22.2  \n",
       "1             78    1830    56      26   $9,500,000   26  21.5  \n",
       "2              4     677    56      26   $7,000,000   24  12.4  \n",
       "3              0     543    56      26   $6,268,675   26  10.6  \n",
       "4             22     454    56      26   $3,000,000   23  14.9  "
      ]
     },
     "execution_count": 30,
     "metadata": {},
     "output_type": "execute_result"
    }
   ],
   "source": [
    "# Merge the 3 dataframes into one big dataframe\n",
    "player_data = pd.merge(player_totals, salaries, on=['name','team','season'])\n",
    "player_data = pd.merge(player_data, advanced_data, on = ['name', 'team','season'])\n",
    "player_data.head()"
   ]
  },
  {
   "cell_type": "code",
   "execution_count": null,
   "metadata": {
    "collapsed": true
   },
   "outputs": [],
   "source": []
  }
 ],
 "metadata": {
  "kernelspec": {
   "display_name": "Python [default]",
   "language": "python",
   "name": "python2"
  },
  "language_info": {
   "codemirror_mode": {
    "name": "ipython",
    "version": 2
   },
   "file_extension": ".py",
   "mimetype": "text/x-python",
   "name": "python",
   "nbconvert_exporter": "python",
   "pygments_lexer": "ipython2",
   "version": "2.7.12"
  }
 },
 "nbformat": 4,
 "nbformat_minor": 1
}
