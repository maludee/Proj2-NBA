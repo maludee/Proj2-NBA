{
 "cells": [
  {
   "cell_type": "markdown",
   "metadata": {},
   "source": [
    "# Regularization"
   ]
  },
  {
   "cell_type": "code",
   "execution_count": 13,
   "metadata": {
    "collapsed": false
   },
   "outputs": [],
   "source": [
    "# Imports and display options\n",
    "import pandas as pd\n",
    "import numpy as np\n",
    "import matplotlib.pyplot as plt\n",
    "\n",
    "from sklearn import preprocessing\n",
    "from sklearn.cross_validation import cross_val_score\n",
    "from sklearn.linear_model import LinearRegression\n",
    "from sklearn.cross_validation import train_test_split\n",
    "from sklearn.cross_validation import KFold\n",
    "from sklearn.linear_model import RidgeCV\n",
    "from sklearn.linear_model import Ridge\n",
    "from sklearn.pipeline import make_pipeline\n",
    "from sklearn.linear_model import Lasso\n",
    "\n",
    "import seaborn as sns\n",
    "from seaborn import plt\n",
    "\n",
    "import statsmodels.api as sm\n",
    "import statsmodels.formula.api as smf\n",
    "from statsmodels.formula.api import ols\n",
    "\n",
    "import pickle\n",
    "\n",
    "pd.options.display.float_format = '{:20,.2f}'.format\n",
    "pd.options.display.max_columns = 100\n",
    "pd.options.display.max_rows = 20\n",
    "\n",
    "%matplotlib inline"
   ]
  },
  {
   "cell_type": "code",
   "execution_count": 14,
   "metadata": {
    "collapsed": true
   },
   "outputs": [],
   "source": [
    "with open(\"first_games.pkl\", 'rb') as picklefile:\n",
    "   first_games = pickle.load(picklefile)"
   ]
  },
  {
   "cell_type": "code",
   "execution_count": 15,
   "metadata": {
    "collapsed": false
   },
   "outputs": [
    {
     "data": {
      "image/png": "[encoded data removed]",
      "text/plain": [
       "<matplotlib.figure.Figure at 0x118553f50>"
      ]
     },
     "metadata": {},
     "output_type": "display_data"
    }
   ],
   "source": [
    "# Make a column for log wl_ratio because then it'll be normalized\n",
    "first_games['log_avg_wl'] = np.log(first_games.avg_wl_ratio)\n",
    "\n",
    "# Check if that had a normal distribution\n",
    "first_games.log_avg_wl.hist(bins = 50);"
   ]
  },
  {
   "cell_type": "code",
   "execution_count": 16,
   "metadata": {
    "collapsed": true
   },
   "outputs": [],
   "source": [
    "# Drop columns that will not be used in the model\n",
    "first_games = first_games.drop('team', 1)\n",
    "first_games = first_games.drop('season', 1)\n",
    "first_games = first_games.drop('avg_wl_ratio', 1)\n",
    "first_games = first_games.drop('avg_points', 1)\n",
    "first_games = first_games.drop('avg_salary', 1)"
   ]
  },
  {
   "cell_type": "code",
   "execution_count": 17,
   "metadata": {
    "collapsed": false
   },
   "outputs": [
    {
     "data": {
      "text/html": [
       "<div>\n",
       "<table border=\"1\" class=\"dataframe\">\n",
       "  <thead>\n",
       "    <tr style=\"text-align: right;\">\n",
       "      <th></th>\n",
       "      <th>avg_fg_att</th>\n",
       "      <th>avg_fg_pct</th>\n",
       "      <th>avg_fg3_pct</th>\n",
       "      <th>avg_opp_fg_pct</th>\n",
       "      <th>avg_opp_fg3_pct</th>\n",
       "      <th>avg_opp_fg_att</th>\n",
       "      <th>avg_age</th>\n",
       "      <th>avg_per</th>\n",
       "      <th>strong_link</th>\n",
       "      <th>weak_link</th>\n",
       "      <th>log_avg_wl</th>\n",
       "    </tr>\n",
       "  </thead>\n",
       "  <tbody>\n",
       "    <tr>\n",
       "      <th>0</th>\n",
       "      <td>0.63</td>\n",
       "      <td>0.32</td>\n",
       "      <td>0.47</td>\n",
       "      <td>0.41</td>\n",
       "      <td>0.25</td>\n",
       "      <td>0.76</td>\n",
       "      <td>0.48</td>\n",
       "      <td>0.57</td>\n",
       "      <td>0.31</td>\n",
       "      <td>0.49</td>\n",
       "      <td>0.57</td>\n",
       "    </tr>\n",
       "    <tr>\n",
       "      <th>1</th>\n",
       "      <td>0.50</td>\n",
       "      <td>0.53</td>\n",
       "      <td>0.42</td>\n",
       "      <td>0.82</td>\n",
       "      <td>0.55</td>\n",
       "      <td>0.30</td>\n",
       "      <td>0.43</td>\n",
       "      <td>0.65</td>\n",
       "      <td>0.19</td>\n",
       "      <td>0.67</td>\n",
       "      <td>0.65</td>\n",
       "    </tr>\n",
       "    <tr>\n",
       "      <th>2</th>\n",
       "      <td>0.40</td>\n",
       "      <td>0.63</td>\n",
       "      <td>0.34</td>\n",
       "      <td>0.75</td>\n",
       "      <td>0.67</td>\n",
       "      <td>0.32</td>\n",
       "      <td>0.55</td>\n",
       "      <td>0.64</td>\n",
       "      <td>0.22</td>\n",
       "      <td>0.61</td>\n",
       "      <td>0.54</td>\n",
       "    </tr>\n",
       "  </tbody>\n",
       "</table>\n",
       "</div>"
      ],
      "text/plain": [
       "            avg_fg_att           avg_fg_pct          avg_fg3_pct  \\\n",
       "0                 0.63                 0.32                 0.47   \n",
       "1                 0.50                 0.53                 0.42   \n",
       "2                 0.40                 0.63                 0.34   \n",
       "\n",
       "        avg_opp_fg_pct      avg_opp_fg3_pct       avg_opp_fg_att  \\\n",
       "0                 0.41                 0.25                 0.76   \n",
       "1                 0.82                 0.55                 0.30   \n",
       "2                 0.75                 0.67                 0.32   \n",
       "\n",
       "               avg_age              avg_per          strong_link  \\\n",
       "0                 0.48                 0.57                 0.31   \n",
       "1                 0.43                 0.65                 0.19   \n",
       "2                 0.55                 0.64                 0.22   \n",
       "\n",
       "             weak_link           log_avg_wl  \n",
       "0                 0.49                 0.57  \n",
       "1                 0.67                 0.65  \n",
       "2                 0.61                 0.54  "
      ]
     },
     "execution_count": 17,
     "metadata": {},
     "output_type": "execute_result"
    }
   ],
   "source": [
    "# Normalize the team_stats dataframe between 0 and 1 (between -1 and 1 would be team_stats.mean()/ same as below)\n",
    "first_norm = (first_games - first_games.min()) / (first_games.max() - first_games.min())\n",
    "\n",
    "first_norm.head(3)"
   ]
  },
  {
   "cell_type": "code",
   "execution_count": 18,
   "metadata": {
    "collapsed": false
   },
   "outputs": [],
   "source": [
    "y_team=first_norm['log_avg_wl']\n",
    "X_team=first_norm.drop(['log_avg_wl'],1)"
   ]
  },
  {
   "cell_type": "code",
   "execution_count": 19,
   "metadata": {
    "collapsed": false
   },
   "outputs": [
    {
     "data": {
      "text/plain": [
       "(256,)"
      ]
     },
     "execution_count": 19,
     "metadata": {},
     "output_type": "execute_result"
    }
   ],
   "source": [
    "X_team.shape\n",
    "y_team.shape"
   ]
  },
  {
   "cell_type": "code",
   "execution_count": 20,
   "metadata": {
    "collapsed": false
   },
   "outputs": [
    {
     "data": {
      "text/plain": [
       "0.18338740596000458"
      ]
     },
     "execution_count": 20,
     "metadata": {},
     "output_type": "execute_result"
    }
   ],
   "source": [
    "lr=LinearRegression()\n",
    "\n",
    "xtrain, xtest, ytrain, ytest = train_test_split(X_team, y_team, test_size=0.3)\n",
    "\n",
    "lr.fit(xtrain, ytrain)\n",
    "lr.score(xtest, ytest)"
   ]
  },
  {
   "cell_type": "code",
   "execution_count": 21,
   "metadata": {
    "collapsed": false
   },
   "outputs": [
    {
     "data": {
      "text/plain": [
       "0.2194026054823881"
      ]
     },
     "execution_count": 21,
     "metadata": {},
     "output_type": "execute_result"
    }
   ],
   "source": [
    "rcv = RidgeCV(cv=5)\n",
    "rcv.fit(xtrain, ytrain)\n",
    "rcv.score(xtest, ytest)"
   ]
  },
  {
   "cell_type": "code",
   "execution_count": 25,
   "metadata": {
    "collapsed": false
   },
   "outputs": [
    {
     "data": {
      "image/png": "[encoded data removed]",
      "text/plain": [
       "<matplotlib.figure.Figure at 0x11a08a410>"
      ]
     },
     "metadata": {},
     "output_type": "display_data"
    }
   ],
   "source": [
    "# Test, train, split option via Ridge \n",
    "alphas=[1e-5,1e-3,1e-1,1,100]\n",
    "X_train, X_test, y_train, y_test = train_test_split(X_team, y_team, test_size=0.3)\n",
    "\n",
    "def make_estimator(est,alpha):\n",
    "    est.alpha=alpha\n",
    "    model = est.fit(X_train,y_train)\n",
    "    mse=np.mean(y_test-model.predict(X_test))**2\n",
    "    return mse\n",
    "    \n",
    "# Get scores\n",
    "all_mse=[]    \n",
    "for a in alphas:    \n",
    "    all_mse.append(make_estimator(Ridge(),a))\n",
    "    \n",
    "\n",
    "#plot of model\n",
    "plt.figure(figsize=(8,6))\n",
    "plt.legend()\n",
    "plt.plot(np.log10(alphas),all_mse)\n",
    "plt.legend()\n",
    "plt.xlabel('alphas')\n",
    "plt.ylabel('MSE')\n",
    "plt.show()"
   ]
  },
  {
   "cell_type": "code",
   "execution_count": null,
   "metadata": {
    "collapsed": true
   },
   "outputs": [],
   "source": []
  },
  {
   "cell_type": "code",
   "execution_count": null,
   "metadata": {
    "collapsed": true
   },
   "outputs": [],
   "source": []
  },
  {
   "cell_type": "code",
   "execution_count": null,
   "metadata": {
    "collapsed": true
   },
   "outputs": [],
   "source": []
  }
 ],
 "metadata": {
  "kernelspec": {
   "display_name": "Python [default]",
   "language": "python",
   "name": "python2"
  },
  "language_info": {
   "codemirror_mode": {
    "name": "ipython",
    "version": 2
   },
   "file_extension": ".py",
   "mimetype": "text/x-python",
   "name": "python",
   "nbconvert_exporter": "python",
   "pygments_lexer": "ipython2",
   "version": "2.7.12"
  }
 },
 "nbformat": 4,
 "nbformat_minor": 1
}
